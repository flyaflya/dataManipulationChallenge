{
 "cells": [
  {
   "cell_type": "markdown",
   "metadata": {},
   "source": [
    "Connected to venv (Python 3.13.9)"
   ]
  },
  {
   "cell_type": "code",
   "execution_count": null,
   "id": "bf96ed34-4f50-44e9-bef2-ef6383589758",
   "metadata": {
    "vscode": {
     "languageId": "quarto"
    }
   },
   "outputs": [
    {
     "name": "stdout",
     "output_type": "stream",
     "text": [
      "Shipments data shape: (4000, 5)\n",
      "\n",
      "Shipments data columns: ['shipID', 'plannedShipDate', 'actualShipDate', 'partID', 'quantity']\n",
      "\n",
      "First few rows of shipments data:\n",
      "   shipID plannedShipDate actualShipDate       partID  quantity\n",
      "0   10001      2013-11-06     2013-10-04  part92b16c5         6\n",
      "1   10002      2013-10-15     2013-10-04   part66983b         2\n",
      "2   10003      2013-10-25     2013-10-07  part8e36f25         1\n",
      "3   10004      2013-10-14     2013-10-08  part30f5de0         1\n",
      "4   10005      2013-10-14     2013-10-08  part9d64d35         6\n",
      "5   10006      2013-10-14     2013-10-08  part6cd6167        15\n",
      "6   10007      2013-10-14     2013-10-08  parta4d5fd1         2\n",
      "7   10008      2013-10-14     2013-10-08  part08cadf5         1\n",
      "8   10009      2013-10-14     2013-10-08  part5cc4989        10\n",
      "9   10010      2013-10-14     2013-10-08  part912ae4c         1\n",
      "\n",
      "==================================================\n",
      "Product line data shape: (11997, 3)\n",
      "\n",
      "Product line data columns: ['partID', 'productLine', 'prodCategory']\n",
      "\n",
      "First few rows of product line data:\n",
      "        partID productLine prodCategory\n",
      "0  part00005ba      line4c      Liquids\n",
      "1  part000b57d      line61     Machines\n",
      "2  part00123bf      linec1  Marketables\n",
      "3  part0021fc9      line61     Machines\n",
      "4  part0027e86      line2f     Machines\n",
      "5  part002ed95      line4c      Liquids\n",
      "6  part0030856      lineb8     Machines\n",
      "7  part0033dfd      line49      Liquids\n",
      "8  part0037a2a      linea3  Marketables\n",
      "9  part003caee      linea3  Marketables\n"
     ]
    }
   ],
   "source": [
    "import pandas as pd\n",
    "import numpy as np\n",
    "import matplotlib.pyplot as plt\n",
    "import seaborn as sns\n",
    "from datetime import datetime, timedelta\n",
    "\n",
    "# Load the shipment data\n",
    "shipments_df = pd.read_csv(\n",
    "    \"https://raw.githubusercontent.com/flyaflya/persuasive/main/shipments.csv\", \n",
    "    parse_dates=['plannedShipDate', 'actualShipDate']\n",
    ")\n",
    "\n",
    "# Load product line data\n",
    "product_line_df = pd.read_csv(\n",
    "    \"https://raw.githubusercontent.com/flyaflya/persuasive/main/productLine.csv\"\n",
    ")\n",
    "\n",
    "# Reduce dataset size for faster processing (4,000 rows instead of 96,805 rows)\n",
    "shipments_df = shipments_df.head(4000)\n",
    "\n",
    "print(\"Shipments data shape:\", shipments_df.shape)\n",
    "print(\"\\nShipments data columns:\", shipments_df.columns.tolist())\n",
    "print(\"\\nFirst few rows of shipments data:\")\n",
    "print(shipments_df.head(10))\n",
    "\n",
    "print(\"\\n\" + \"=\"*50)\n",
    "print(\"Product line data shape:\", product_line_df.shape)\n",
    "print(\"\\nProduct line data columns:\", product_line_df.columns.tolist())\n",
    "print(\"\\nFirst few rows of product line data:\")\n",
    "print(product_line_df.head(10))"
   ]
  },
  {
   "cell_type": "code",
   "execution_count": null,
   "id": "36a2be9a-ac0b-4eb8-8821-5539cf2efe51",
   "metadata": {
    "vscode": {
     "languageId": "quarto"
    }
   },
   "outputs": [
    {
     "name": "stdout",
     "output_type": "stream",
     "text": [
      "Shipments data shape: (4000, 5)\n",
      "\n",
      "Shipments data columns: ['shipID', 'plannedShipDate', 'actualShipDate', 'partID', 'quantity']\n",
      "\n",
      "First few rows of shipments data:\n",
      "   shipID plannedShipDate actualShipDate       partID  quantity\n",
      "0   10001      2013-11-06     2013-10-04  part92b16c5         6\n",
      "1   10002      2013-10-15     2013-10-04   part66983b         2\n",
      "2   10003      2013-10-25     2013-10-07  part8e36f25         1\n",
      "3   10004      2013-10-14     2013-10-08  part30f5de0         1\n",
      "4   10005      2013-10-14     2013-10-08  part9d64d35         6\n",
      "5   10006      2013-10-14     2013-10-08  part6cd6167        15\n",
      "6   10007      2013-10-14     2013-10-08  parta4d5fd1         2\n",
      "7   10008      2013-10-14     2013-10-08  part08cadf5         1\n",
      "8   10009      2013-10-14     2013-10-08  part5cc4989        10\n",
      "9   10010      2013-10-14     2013-10-08  part912ae4c         1\n",
      "\n",
      "==================================================\n",
      "Product line data shape: (11997, 3)\n",
      "\n",
      "Product line data columns: ['partID', 'productLine', 'prodCategory']\n",
      "\n",
      "First few rows of product line data:\n",
      "        partID productLine prodCategory\n",
      "0  part00005ba      line4c      Liquids\n",
      "1  part000b57d      line61     Machines\n",
      "2  part00123bf      linec1  Marketables\n",
      "3  part0021fc9      line61     Machines\n",
      "4  part0027e86      line2f     Machines\n",
      "5  part002ed95      line4c      Liquids\n",
      "6  part0030856      lineb8     Machines\n",
      "7  part0033dfd      line49      Liquids\n",
      "8  part0037a2a      linea3  Marketables\n",
      "9  part003caee      linea3  Marketables\n"
     ]
    }
   ],
   "source": [
    "import pandas as pd\n",
    "import numpy as np\n",
    "import matplotlib.pyplot as plt\n",
    "import seaborn as sns\n",
    "from datetime import datetime, timedelta\n",
    "\n",
    "# Load the shipment data\n",
    "shipments_df = pd.read_csv(\n",
    "    \"https://raw.githubusercontent.com/flyaflya/persuasive/main/shipments.csv\", \n",
    "    parse_dates=['plannedShipDate', 'actualShipDate']\n",
    ")\n",
    "\n",
    "# Load product line data\n",
    "product_line_df = pd.read_csv(\n",
    "    \"https://raw.githubusercontent.com/flyaflya/persuasive/main/productLine.csv\"\n",
    ")\n",
    "\n",
    "# Reduce dataset size for faster processing (4,000 rows instead of 96,805 rows)\n",
    "shipments_df = shipments_df.head(4000)\n",
    "\n",
    "print(\"Shipments data shape:\", shipments_df.shape)\n",
    "print(\"\\nShipments data columns:\", shipments_df.columns.tolist())\n",
    "print(\"\\nFirst few rows of shipments data:\")\n",
    "print(shipments_df.head(10))\n",
    "\n",
    "print(\"\\n\" + \"=\"*50)\n",
    "print(\"Product line data shape:\", product_line_df.shape)\n",
    "print(\"\\nProduct line data columns:\", product_line_df.columns.tolist())\n",
    "print(\"\\nFirst few rows of product line data:\")\n",
    "print(product_line_df.head(10))"
   ]
  },
  {
   "cell_type": "code",
   "execution_count": null,
   "id": "7b76add7-68f6-4778-9e83-943b868d2825",
   "metadata": {
    "vscode": {
     "languageId": "quarto"
    }
   },
   "outputs": [
    {
     "name": "stdout",
     "output_type": "stream",
     "text": [
      "Shipments data shape: (4000, 5)\n",
      "\n",
      "Shipments data columns: ['shipID', 'plannedShipDate', 'actualShipDate', 'partID', 'quantity']\n",
      "\n",
      "First few rows of shipments data:\n",
      "   shipID plannedShipDate actualShipDate       partID  quantity\n",
      "0   10001      2013-11-06     2013-10-04  part92b16c5         6\n",
      "1   10002      2013-10-15     2013-10-04   part66983b         2\n",
      "2   10003      2013-10-25     2013-10-07  part8e36f25         1\n",
      "3   10004      2013-10-14     2013-10-08  part30f5de0         1\n",
      "4   10005      2013-10-14     2013-10-08  part9d64d35         6\n",
      "5   10006      2013-10-14     2013-10-08  part6cd6167        15\n",
      "6   10007      2013-10-14     2013-10-08  parta4d5fd1         2\n",
      "7   10008      2013-10-14     2013-10-08  part08cadf5         1\n",
      "8   10009      2013-10-14     2013-10-08  part5cc4989        10\n",
      "9   10010      2013-10-14     2013-10-08  part912ae4c         1\n",
      "\n",
      "==================================================\n",
      "Product line data shape: (11997, 3)\n",
      "\n",
      "Product line data columns: ['partID', 'productLine', 'prodCategory']\n",
      "\n",
      "First few rows of product line data:\n",
      "        partID productLine prodCategory\n",
      "0  part00005ba      line4c      Liquids\n",
      "1  part000b57d      line61     Machines\n",
      "2  part00123bf      linec1  Marketables\n",
      "3  part0021fc9      line61     Machines\n",
      "4  part0027e86      line2f     Machines\n",
      "5  part002ed95      line4c      Liquids\n",
      "6  part0030856      lineb8     Machines\n",
      "7  part0033dfd      line49      Liquids\n",
      "8  part0037a2a      linea3  Marketables\n",
      "9  part003caee      linea3  Marketables\n"
     ]
    }
   ],
   "source": [
    "import pandas as pd\n",
    "import numpy as np\n",
    "import matplotlib.pyplot as plt\n",
    "import seaborn as sns\n",
    "from datetime import datetime, timedelta\n",
    "\n",
    "# Load the shipment data\n",
    "shipments_df = pd.read_csv(\n",
    "    \"https://raw.githubusercontent.com/flyaflya/persuasive/main/shipments.csv\", \n",
    "    parse_dates=['plannedShipDate', 'actualShipDate']\n",
    ")\n",
    "\n",
    "# Load product line data\n",
    "product_line_df = pd.read_csv(\n",
    "    \"https://raw.githubusercontent.com/flyaflya/persuasive/main/productLine.csv\"\n",
    ")\n",
    "\n",
    "# Reduce dataset size for faster processing (4,000 rows instead of 96,805 rows)\n",
    "shipments_df = shipments_df.head(4000)\n",
    "\n",
    "print(\"Shipments data shape:\", shipments_df.shape)\n",
    "print(\"\\nShipments data columns:\", shipments_df.columns.tolist())\n",
    "print(\"\\nFirst few rows of shipments data:\")\n",
    "print(shipments_df.head(10))\n",
    "\n",
    "print(\"\\n\" + \"=\"*50)\n",
    "print(\"Product line data shape:\", product_line_df.shape)\n",
    "print(\"\\nProduct line data columns:\", product_line_df.columns.tolist())\n",
    "print(\"\\nFirst few rows of product line data:\")\n",
    "print(product_line_df.head(10))"
   ]
  },
  {
   "cell_type": "code",
   "execution_count": null,
   "id": "eb851387-34be-4bbf-9f67-357ac440c952",
   "metadata": {
    "vscode": {
     "languageId": "quarto"
    }
   },
   "outputs": [
    {
     "name": "stdout",
     "output_type": "stream",
     "text": [
      "Added lateness calculations:\n",
      "   shipID plannedShipDate actualShipDate  is_late  days_late\n",
      "0   10001      2013-11-06     2013-10-04    False        -33\n",
      "1   10002      2013-10-15     2013-10-04    False        -11\n",
      "2   10003      2013-10-25     2013-10-07    False        -18\n",
      "3   10004      2013-10-14     2013-10-08    False         -6\n",
      "4   10005      2013-10-14     2013-10-08    False         -6\n"
     ]
    }
   ],
   "source": [
    "# Simple assignment - calculate if shipment was late\n",
    "shipments_with_lateness = (\n",
    "    shipments_df\n",
    "    .assign(\n",
    "        is_late=lambda df: df['actualShipDate'] > df['plannedShipDate'],\n",
    "        days_late=lambda df: (df['actualShipDate'] - df['plannedShipDate']).dt.days\n",
    "    )\n",
    ")\n",
    "\n",
    "print(\"Added lateness calculations:\")\n",
    "print(shipments_with_lateness[['shipID', 'plannedShipDate', 'actualShipDate', 'is_late', 'days_late']].head())"
   ]
  },
  {
   "cell_type": "code",
   "execution_count": null,
   "id": "48eb9bda-f9e8-4994-8af0-643eeacf25bb",
   "metadata": {
    "vscode": {
     "languageId": "quarto"
    }
   },
   "outputs": [
    {
     "name": "stdout",
     "output_type": "stream",
     "text": [
      "Found 456 late shipments out of 4000 total\n",
      "\n",
      "Late shipments sample:\n",
      "     shipID       partID plannedShipDate actualShipDate  days_late\n",
      "776   10192  part0164a70      2013-10-09     2013-10-14          5\n",
      "777   10192  part9259836      2013-10-09     2013-10-14          5\n",
      "778   10192  part4526c73      2013-10-09     2013-10-14          5\n",
      "779   10192  partbb47e81      2013-10-09     2013-10-14          5\n",
      "780   10192  part008482f      2013-10-09     2013-10-14          5\n"
     ]
    }
   ],
   "source": [
    "# Query rows for late shipments and filter to keep specific columns\n",
    "late_shipments = (\n",
    "    shipments_with_lateness\n",
    "    .query('is_late == True')  # Query rows where is_late is True\n",
    "    .filter(['shipID', 'partID', 'plannedShipDate', 'actualShipDate', 'days_late'])  # Filter to keep specific columns\n",
    ")\n",
    "\n",
    "print(f\"Found {len(late_shipments)} late shipments out of {len(shipments_with_lateness)} total\")\n",
    "print(\"\\nLate shipments sample:\")\n",
    "print(late_shipments.head())"
   ]
  },
  {
   "cell_type": "code",
   "execution_count": null,
   "id": "f0104a8d-63a7-42fc-a3de-3c2c4e89a66e",
   "metadata": {
    "vscode": {
     "languageId": "quarto"
    }
   },
   "outputs": [
    {
     "name": "stdout",
     "output_type": "stream",
     "text": [
      "Cleaned dataset: 4000 rows, 6 columns\n",
      "Remaining columns: ['shipID', 'plannedShipDate', 'actualShipDate', 'partID', 'is_late', 'days_late']\n"
     ]
    }
   ],
   "source": [
    "# Create a cleaner dataset by dropping unnecessary columns\n",
    "clean_shipments = (\n",
    "    shipments_with_lateness\n",
    "    .drop(columns=['quantity'])  # Drop quantity column (not needed for our analysis)\n",
    "    .dropna(subset=['plannedShipDate', 'actualShipDate'])  # Remove rows with missing dates\n",
    ")\n",
    "\n",
    "print(f\"Cleaned dataset: {len(clean_shipments)} rows, {len(clean_shipments.columns)} columns\")\n",
    "print(\"Remaining columns:\", clean_shipments.columns.tolist())"
   ]
  },
  {
   "cell_type": "code",
   "execution_count": null,
   "id": "118bf02f-007f-4f26-b251-9143e23725df",
   "metadata": {
    "vscode": {
     "languageId": "quarto"
    }
   },
   "outputs": [
    {
     "name": "stdout",
     "output_type": "stream",
     "text": [
      "Shipments sorted by lateness (worst first):\n",
      "   shipID       partID  days_late  is_late\n",
      "0   10956  partb6208b5         21     True\n",
      "1   10956  part04ef2f7         21     True\n",
      "2   10956  part4875f85         21     True\n",
      "3   10956  partb722d53         21     True\n",
      "4   10956  partc979912         21     True\n",
      "5   10956  parta27d449         21     True\n",
      "6   10956  partc653823         21     True\n",
      "7   10956  part82e69e9         21     True\n",
      "8   10956  partf23fd1e         21     True\n",
      "9   10956  part825873c         21     True\n"
     ]
    }
   ],
   "source": [
    "# Sort by days late (worst first)\n",
    "sorted_by_lateness = (\n",
    "    clean_shipments\n",
    "    .sort_values('days_late', ascending=False)  # Sort by days_late, highest first\n",
    "    .reset_index(drop=True)  # Reset index to be sequential\n",
    ")\n",
    "\n",
    "print(\"Shipments sorted by lateness (worst first):\")\n",
    "print(sorted_by_lateness[['shipID', 'partID', 'days_late', 'is_late']].head(10))"
   ]
  },
  {
   "cell_type": "code",
   "execution_count": null,
   "id": "a51667cb-8f8e-4542-a72e-c10db9c49301",
   "metadata": {
    "vscode": {
     "languageId": "quarto"
    }
   },
   "outputs": [
    {
     "name": "stdout",
     "output_type": "stream",
     "text": [
      "Overall Service Level Metrics:\n",
      "        is_late  days_late\n",
      "count  4000.000        NaN\n",
      "sum     456.000        NaN\n",
      "mean      0.114     -0.974\n",
      "max         NaN     21.000\n",
      "\n",
      "On-time delivery rate: 88.6%\n"
     ]
    }
   ],
   "source": [
    "# Calculate overall service level metrics\n",
    "service_metrics = (\n",
    "    clean_shipments\n",
    "    .agg({\n",
    "        'is_late': ['count', 'sum', 'mean'],  # Count total, count late, calculate percentage\n",
    "        'days_late': ['mean', 'max']  # Average and maximum days late\n",
    "    })\n",
    "    .round(3)\n",
    ")\n",
    "\n",
    "print(\"Overall Service Level Metrics:\")\n",
    "print(service_metrics)\n",
    "\n",
    "# Calculate percentage on-time directly from the data\n",
    "on_time_rate = (1 - clean_shipments['is_late'].mean()) * 100\n",
    "print(f\"\\nOn-time delivery rate: {on_time_rate:.1f}%\")"
   ]
  },
  {
   "cell_type": "code",
   "execution_count": null,
   "id": "70ef0023-8825-4c0a-aba8-a50c984062e0",
   "metadata": {
    "vscode": {
     "languageId": "quarto"
    }
   },
   "outputs": [
    {
     "name": "stdout",
     "output_type": "stream",
     "text": [
      "\n",
      "Product categories available:\n",
      "prodCategory\n",
      "Marketables    1850\n",
      "Machines        846\n",
      "SpareParts      767\n",
      "Liquids         537\n",
      "Name: count, dtype: int64\n"
     ]
    }
   ],
   "source": [
    "# Merge shipment data with product line data\n",
    "shipments_with_category = (\n",
    "    clean_shipments\n",
    "    .merge(product_line_df, on='partID', how='left')  # Left join to keep all shipments\n",
    "    .assign(\n",
    "        category_late=lambda df: df['is_late'] & df['prodCategory'].notna()  # Only count as late if we have category info\n",
    "    )\n",
    ")\n",
    "\n",
    "print(\"\\nProduct categories available:\")\n",
    "print(shipments_with_category['prodCategory'].value_counts())"
   ]
  },
  {
   "cell_type": "code",
   "execution_count": null,
   "id": "e6673f9c-4cd1-4788-a839-739bb3c52bd3",
   "metadata": {
    "vscode": {
     "languageId": "quarto"
    }
   },
   "outputs": [
    {
     "name": "stdout",
     "output_type": "stream",
     "text": [
      "\n",
      "Product categories available:\n",
      "prodCategory\n",
      "Marketables    1850\n",
      "Machines        846\n",
      "SpareParts      767\n",
      "Liquids         537\n",
      "Name: count, dtype: int64\n"
     ]
    }
   ],
   "source": [
    "# Merge shipment data with product line data\n",
    "shipments_with_category = (\n",
    "    clean_shipments\n",
    "    .merge(product_line_df, on='partID', how='left')  # Left join to keep all shipments\n",
    "    .assign(\n",
    "        category_late=lambda df: df['is_late'] & df['prodCategory'].notna()  # Only count as late if we have category info\n",
    "    )\n",
    ")\n",
    "\n",
    "print(\"\\nProduct categories available:\")\n",
    "print(shipments_with_category['prodCategory'].value_counts())"
   ]
  },
  {
   "cell_type": "code",
   "execution_count": null,
   "id": "583fe6fe-6b78-4599-8dd6-23d93251a8b0",
   "metadata": {
    "vscode": {
     "languageId": "quarto"
    }
   },
   "outputs": [
    {
     "name": "stdout",
     "output_type": "stream",
     "text": [
      "Service Level by Product Category:\n",
      "             is_late                   days_late    \n",
      "                 any count  sum   mean      mean max\n",
      "prodCategory                                        \n",
      "Liquids         True   537   22  0.041    -0.950  19\n",
      "Machines        True   846  152  0.180    -1.336  21\n",
      "Marketables     True  1850  145  0.078    -0.804  21\n",
      "SpareParts      True   767  137  0.179    -1.003  21\n"
     ]
    }
   ],
   "source": [
    "# Analyze service levels by product category\n",
    "service_by_category = (\n",
    "    shipments_with_category\n",
    "    .groupby('prodCategory')  # Split by product category\n",
    "    .agg({\n",
    "        'is_late': ['any', 'count', 'sum', 'mean'],  # Count, late count, percentage late\n",
    "        'days_late': ['mean', 'max']  # Average and max days late\n",
    "    })\n",
    "    .round(3)\n",
    ")\n",
    "\n",
    "print(\"Service Level by Product Category:\")\n",
    "print(service_by_category)"
   ]
  },
  {
   "cell_type": "code",
   "execution_count": null,
   "id": "dcef7f06-9dc6-431f-ab2a-7f0a67c1b4a8",
   "metadata": {
    "vscode": {
     "languageId": "quarto"
    }
   },
   "outputs": [
    {
     "name": "stdout",
     "output_type": "stream",
     "text": [
      "Comprehensive analysis - shipments with multiple categories:\n",
      "Shipments with multiple categories: 232\n",
      "Total unique shipments: 997\n",
      "Percentage with multiple categories: 23.3%\n"
     ]
    }
   ],
   "source": [
    "# Create a comprehensive analysis dataset\n",
    "comprehensive_analysis = (\n",
    "    shipments_with_category\n",
    "    .groupby(['shipID', 'prodCategory'])  # Group by shipment and category\n",
    "    .agg({\n",
    "        'is_late': 'any',  # True if any item in this shipment/category is late\n",
    "        'days_late': 'max'  # Maximum days late for this shipment/category\n",
    "    })\n",
    "    .reset_index()\n",
    "    .assign(\n",
    "        has_multiple_categories=lambda df: df.groupby('shipID')['prodCategory'].transform('nunique') > 1\n",
    "    )\n",
    ")\n",
    "\n",
    "print(\"Comprehensive analysis - shipments with multiple categories:\")\n",
    "multi_category_shipments = comprehensive_analysis[comprehensive_analysis['has_multiple_categories']]\n",
    "print(f\"Shipments with multiple categories: {multi_category_shipments['shipID'].nunique()}\")\n",
    "print(f\"Total unique shipments: {comprehensive_analysis['shipID'].nunique()}\")\n",
    "print(f\"Percentage with multiple categories: {multi_category_shipments['shipID'].nunique() / comprehensive_analysis['shipID'].nunique() * 100:.1f}%\")"
   ]
  },
  {
   "cell_type": "code",
   "execution_count": null,
   "id": "5f936f35-295c-4804-9245-293b68e60232",
   "metadata": {
    "vscode": {
     "languageId": "quarto"
    }
   },
   "outputs": [
    {
     "name": "stdout",
     "output_type": "stream",
     "text": [
      "Shipments data shape: (4000, 5)\n",
      "\n",
      "Shipments data columns: ['shipID', 'plannedShipDate', 'actualShipDate', 'partID', 'quantity']\n",
      "\n",
      "First few rows of shipments data:\n",
      "   shipID plannedShipDate actualShipDate       partID  quantity\n",
      "0   10001      2013-11-06     2013-10-04  part92b16c5         6\n",
      "1   10002      2013-10-15     2013-10-04   part66983b         2\n",
      "2   10003      2013-10-25     2013-10-07  part8e36f25         1\n",
      "3   10004      2013-10-14     2013-10-08  part30f5de0         1\n",
      "4   10005      2013-10-14     2013-10-08  part9d64d35         6\n",
      "5   10006      2013-10-14     2013-10-08  part6cd6167        15\n",
      "6   10007      2013-10-14     2013-10-08  parta4d5fd1         2\n",
      "7   10008      2013-10-14     2013-10-08  part08cadf5         1\n",
      "8   10009      2013-10-14     2013-10-08  part5cc4989        10\n",
      "9   10010      2013-10-14     2013-10-08  part912ae4c         1\n",
      "\n",
      "==================================================\n",
      "Product line data shape: (11997, 3)\n",
      "\n",
      "Product line data columns: ['partID', 'productLine', 'prodCategory']\n",
      "\n",
      "First few rows of product line data:\n",
      "        partID productLine prodCategory\n",
      "0  part00005ba      line4c      Liquids\n",
      "1  part000b57d      line61     Machines\n",
      "2  part00123bf      linec1  Marketables\n",
      "3  part0021fc9      line61     Machines\n",
      "4  part0027e86      line2f     Machines\n",
      "5  part002ed95      line4c      Liquids\n",
      "6  part0030856      lineb8     Machines\n",
      "7  part0033dfd      line49      Liquids\n",
      "8  part0037a2a      linea3  Marketables\n",
      "9  part003caee      linea3  Marketables\n"
     ]
    }
   ],
   "source": [
    "import pandas as pd\n",
    "import numpy as np\n",
    "import matplotlib.pyplot as plt\n",
    "import seaborn as sns\n",
    "from datetime import datetime, timedelta\n",
    "\n",
    "# Load the shipment data\n",
    "shipments_df = pd.read_csv(\n",
    "    \"https://raw.githubusercontent.com/flyaflya/persuasive/main/shipments.csv\", \n",
    "    parse_dates=['plannedShipDate', 'actualShipDate']\n",
    ")\n",
    "\n",
    "# Load product line data\n",
    "product_line_df = pd.read_csv(\n",
    "    \"https://raw.githubusercontent.com/flyaflya/persuasive/main/productLine.csv\"\n",
    ")\n",
    "\n",
    "# Reduce dataset size for faster processing (4,000 rows instead of 96,805 rows)\n",
    "shipments_df = shipments_df.head(4000)\n",
    "\n",
    "print(\"Shipments data shape:\", shipments_df.shape)\n",
    "print(\"\\nShipments data columns:\", shipments_df.columns.tolist())\n",
    "print(\"\\nFirst few rows of shipments data:\")\n",
    "print(shipments_df.head(10))\n",
    "\n",
    "print(\"\\n\" + \"=\"*50)\n",
    "print(\"Product line data shape:\", product_line_df.shape)\n",
    "print(\"\\nProduct line data columns:\", product_line_df.columns.tolist())\n",
    "print(\"\\nFirst few rows of product line data:\")\n",
    "print(product_line_df.head(10))"
   ]
  },
  {
   "cell_type": "code",
   "execution_count": null,
   "id": "a84be3ad-def1-401a-91d4-e1ae49072edc",
   "metadata": {
    "vscode": {
     "languageId": "quarto"
    }
   },
   "outputs": [
    {
     "name": "stdout",
     "output_type": "stream",
     "text": [
      "Shipments data shape: (4000, 5)\n",
      "\n",
      "Shipments data columns: ['shipID', 'plannedShipDate', 'actualShipDate', 'partID', 'quantity']\n",
      "\n",
      "First few rows of shipments data:\n",
      "   shipID plannedShipDate actualShipDate       partID  quantity\n",
      "0   10001      2013-11-06     2013-10-04  part92b16c5         6\n",
      "1   10002      2013-10-15     2013-10-04   part66983b         2\n",
      "2   10003      2013-10-25     2013-10-07  part8e36f25         1\n",
      "3   10004      2013-10-14     2013-10-08  part30f5de0         1\n",
      "4   10005      2013-10-14     2013-10-08  part9d64d35         6\n",
      "5   10006      2013-10-14     2013-10-08  part6cd6167        15\n",
      "6   10007      2013-10-14     2013-10-08  parta4d5fd1         2\n",
      "7   10008      2013-10-14     2013-10-08  part08cadf5         1\n",
      "8   10009      2013-10-14     2013-10-08  part5cc4989        10\n",
      "9   10010      2013-10-14     2013-10-08  part912ae4c         1\n",
      "\n",
      "==================================================\n",
      "Product line data shape: (11997, 3)\n",
      "\n",
      "Product line data columns: ['partID', 'productLine', 'prodCategory']\n",
      "\n",
      "First few rows of product line data:\n",
      "        partID productLine prodCategory\n",
      "0  part00005ba      line4c      Liquids\n",
      "1  part000b57d      line61     Machines\n",
      "2  part00123bf      linec1  Marketables\n",
      "3  part0021fc9      line61     Machines\n",
      "4  part0027e86      line2f     Machines\n",
      "5  part002ed95      line4c      Liquids\n",
      "6  part0030856      lineb8     Machines\n",
      "7  part0033dfd      line49      Liquids\n",
      "8  part0037a2a      linea3  Marketables\n",
      "9  part003caee      linea3  Marketables\n"
     ]
    }
   ],
   "source": [
    "import pandas as pd\n",
    "import numpy as np\n",
    "import matplotlib.pyplot as plt\n",
    "import seaborn as sns\n",
    "from datetime import datetime, timedelta\n",
    "\n",
    "# Load the shipment data\n",
    "shipments_df = pd.read_csv(\n",
    "    \"https://raw.githubusercontent.com/flyaflya/persuasive/main/shipments.csv\", \n",
    "    parse_dates=['plannedShipDate', 'actualShipDate']\n",
    ")\n",
    "\n",
    "# Load product line data\n",
    "product_line_df = pd.read_csv(\n",
    "    \"https://raw.githubusercontent.com/flyaflya/persuasive/main/productLine.csv\"\n",
    ")\n",
    "\n",
    "# Reduce dataset size for faster processing (4,000 rows instead of 96,805 rows)\n",
    "shipments_df = shipments_df.head(4000)\n",
    "\n",
    "print(\"Shipments data shape:\", shipments_df.shape)\n",
    "print(\"\\nShipments data columns:\", shipments_df.columns.tolist())\n",
    "print(\"\\nFirst few rows of shipments data:\")\n",
    "print(shipments_df.head(10))\n",
    "\n",
    "print(\"\\n\" + \"=\"*50)\n",
    "print(\"Product line data shape:\", product_line_df.shape)\n",
    "print(\"\\nProduct line data columns:\", product_line_df.columns.tolist())\n",
    "print(\"\\nFirst few rows of product line data:\")\n",
    "print(product_line_df.head(10))"
   ]
  },
  {
   "cell_type": "code",
   "execution_count": null,
   "id": "5c1a2554-3e29-4cdc-82ee-37dbd53c631b",
   "metadata": {
    "vscode": {
     "languageId": "quarto"
    }
   },
   "outputs": [
    {
     "name": "stdout",
     "output_type": "stream",
     "text": [
      "Shipments data shape: (4000, 5)\n",
      "\n",
      "Shipments data columns: ['shipID', 'plannedShipDate', 'actualShipDate', 'partID', 'quantity']\n",
      "\n",
      "First few rows of shipments data:\n",
      "   shipID plannedShipDate actualShipDate       partID  quantity\n",
      "0   10001      2013-11-06     2013-10-04  part92b16c5         6\n",
      "1   10002      2013-10-15     2013-10-04   part66983b         2\n",
      "2   10003      2013-10-25     2013-10-07  part8e36f25         1\n",
      "3   10004      2013-10-14     2013-10-08  part30f5de0         1\n",
      "4   10005      2013-10-14     2013-10-08  part9d64d35         6\n",
      "5   10006      2013-10-14     2013-10-08  part6cd6167        15\n",
      "6   10007      2013-10-14     2013-10-08  parta4d5fd1         2\n",
      "7   10008      2013-10-14     2013-10-08  part08cadf5         1\n",
      "8   10009      2013-10-14     2013-10-08  part5cc4989        10\n",
      "9   10010      2013-10-14     2013-10-08  part912ae4c         1\n",
      "\n",
      "==================================================\n",
      "Product line data shape: (11997, 3)\n",
      "\n",
      "Product line data columns: ['partID', 'productLine', 'prodCategory']\n",
      "\n",
      "First few rows of product line data:\n",
      "        partID productLine prodCategory\n",
      "0  part00005ba      line4c      Liquids\n",
      "1  part000b57d      line61     Machines\n",
      "2  part00123bf      linec1  Marketables\n",
      "3  part0021fc9      line61     Machines\n",
      "4  part0027e86      line2f     Machines\n",
      "5  part002ed95      line4c      Liquids\n",
      "6  part0030856      lineb8     Machines\n",
      "7  part0033dfd      line49      Liquids\n",
      "8  part0037a2a      linea3  Marketables\n",
      "9  part003caee      linea3  Marketables\n"
     ]
    }
   ],
   "source": [
    "import pandas as pd\n",
    "import numpy as np\n",
    "import matplotlib.pyplot as plt\n",
    "import seaborn as sns\n",
    "from datetime import datetime, timedelta\n",
    "\n",
    "# Load the shipment data\n",
    "shipments_df = pd.read_csv(\n",
    "    \"https://raw.githubusercontent.com/flyaflya/persuasive/main/shipments.csv\", \n",
    "    parse_dates=['plannedShipDate', 'actualShipDate']\n",
    ")\n",
    "\n",
    "# Load product line data\n",
    "product_line_df = pd.read_csv(\n",
    "    \"https://raw.githubusercontent.com/flyaflya/persuasive/main/productLine.csv\"\n",
    ")\n",
    "\n",
    "# Reduce dataset size for faster processing (4,000 rows instead of 96,805 rows)\n",
    "shipments_df = shipments_df.head(4000)\n",
    "\n",
    "print(\"Shipments data shape:\", shipments_df.shape)\n",
    "print(\"\\nShipments data columns:\", shipments_df.columns.tolist())\n",
    "print(\"\\nFirst few rows of shipments data:\")\n",
    "print(shipments_df.head(10))\n",
    "\n",
    "print(\"\\n\" + \"=\"*50)\n",
    "print(\"Product line data shape:\", product_line_df.shape)\n",
    "print(\"\\nProduct line data columns:\", product_line_df.columns.tolist())\n",
    "print(\"\\nFirst few rows of product line data:\")\n",
    "print(product_line_df.head(10))"
   ]
  },
  {
   "cell_type": "code",
   "execution_count": null,
   "id": "1d5ec139-a638-4e96-946f-16f4b2271dad",
   "metadata": {
    "vscode": {
     "languageId": "quarto"
    }
   },
   "outputs": [
    {
     "name": "stdout",
     "output_type": "stream",
     "text": [
      "datetime64[ns]\n",
      "datetime64[ns]\n"
     ]
    }
   ],
   "source": [
    "print(shipments_df['actualShipDate'].dtype)\n",
    "print(shipments_df['plannedShipDate'].dtype)"
   ]
  },
  {
   "cell_type": "code",
   "execution_count": null,
   "id": "394ea477-bb76-4f60-a12f-d970f0e7666e",
   "metadata": {
    "vscode": {
     "languageId": "quarto"
    }
   },
   "outputs": [
    {
     "name": "stdout",
     "output_type": "stream",
     "text": [
      "0       False\n",
      "1       False\n",
      "2       False\n",
      "3       False\n",
      "4       False\n",
      "        ...  \n",
      "3995    False\n",
      "3996    False\n",
      "3997     True\n",
      "3998    False\n",
      "3999    False\n",
      "Length: 4000, dtype: bool\n"
     ]
    }
   ],
   "source": [
    "print(shipments_df['actualShipDate'] > shipments_df['plannedShipDate'])"
   ]
  },
  {
   "cell_type": "code",
   "execution_count": null,
   "id": "13a7ffef-88b1-43d0-ae7e-d816601066ba",
   "metadata": {
    "vscode": {
     "languageId": "quarto"
    }
   },
   "outputs": [
    {
     "name": "stdout",
     "output_type": "stream",
     "text": [
      "(4000,)\n",
      "(4000,)\n"
     ]
    }
   ],
   "source": [
    "#+\n",
    "# Shape of actualShipDate and plannedShipDate\n",
    "print(shipments_df['actualShipDate'].shape)\n",
    "print(shipments_df['plannedShipDate'].shape)"
   ]
  },
  {
   "cell_type": "code",
   "execution_count": null,
   "id": "bc88fe55-8e2e-4840-a86e-76132c77d958",
   "metadata": {
    "vscode": {
     "languageId": "quarto"
    }
   },
   "outputs": [
    {
     "name": "stdout",
     "output_type": "stream",
     "text": [
      "04-11-2025 is later than 05-20-2024\n"
     ]
    }
   ],
   "source": [
    "import pandas as pd\n",
    "if pd.to_datetime('04-11-2025') > pd.to_datetime('05-20-2024'):\n",
    "    print(\"04-11-2025 is later than 05-20-2024\")\n",
    "else:\n",
    "    print(\"04-11-2025 is earlier than 05-20-2024\")"
   ]
  },
  {
   "cell_type": "code",
   "execution_count": null,
   "id": "d7a9f3d3-69e0-4b70-967b-0bc545f5ab30",
   "metadata": {
    "vscode": {
     "languageId": "quarto"
    }
   },
   "outputs": [
    {
     "name": "stdout",
     "output_type": "stream",
     "text": [
      "04-11-2025 is earlier than 05-20-2024\n"
     ]
    }
   ],
   "source": [
    "if '04-11-2025' > '05-20-2024':\n",
    "    print(\"04-11-2025 is later than 05-20-2024\")\n",
    "else:\n",
    "    print(\"04-11-2025 is earlier than 05-20-2024\")"
   ]
  },
  {
   "cell_type": "code",
   "execution_count": null,
   "id": "5a57eac6-f48a-47bf-baa8-92f8ecad94de",
   "metadata": {
    "vscode": {
     "languageId": "quarto"
    }
   },
   "outputs": [
    {
     "name": "stdout",
     "output_type": "stream",
     "text": [
      "04-11-2025 is later than 05-20-2024\n"
     ]
    }
   ],
   "source": [
    "if '14-11-2025' > '05-20-2024':\n",
    "    print(\"04-11-2025 is later than 05-20-2024\")\n",
    "else:\n",
    "    print(\"04-11-2025 is earlier than 05-20-2024\")"
   ]
  },
  {
   "cell_type": "code",
   "execution_count": null,
   "id": "0b005789-c52e-4d4c-80e3-95d14cf5ea6c",
   "metadata": {
    "vscode": {
     "languageId": "quarto"
    }
   },
   "outputs": [
    {
     "name": "stdout",
     "output_type": "stream",
     "text": [
      "04-11-2025 is later than 05-20-2024\n"
     ]
    }
   ],
   "source": [
    "if '14-11-2025' > '05-20-2024':\n",
    "    print(\"04-11-2025 is later than 05-20-2024\")\n",
    "else:\n",
    "    print(\"04-11-2025 is earlier than 05-20-2024\")"
   ]
  },
  {
   "cell_type": "code",
   "execution_count": null,
   "id": "dcc0a80b-1853-4c8e-8922-eec50b8a0847",
   "metadata": {
    "vscode": {
     "languageId": "quarto"
    }
   },
   "outputs": [
    {
     "name": "stdout",
     "output_type": "stream",
     "text": [
      "14-11-2025 is later than 05-20-2024\n"
     ]
    }
   ],
   "source": [
    "if '14-11-2025' > '05-20-2024':\n",
    "    print(\"14-11-2025 is later than 05-20-2024\")\n",
    "else:\n",
    "    print(\"14-11-2025 is earlier than 05-20-2024\")"
   ]
  },
  {
   "cell_type": "code",
   "execution_count": null,
   "id": "d2580970-1e1e-4afd-abad-47fb38c07eb0",
   "metadata": {
    "vscode": {
     "languageId": "quarto"
    }
   },
   "outputs": [
    {
     "ename": "ModuleNotFoundError",
     "evalue": "No module named 'panas'",
     "output_type": "error",
     "traceback": [
      "\u001b[31m---------------------------------------------------------------------------\u001b[39m",
      "\u001b[31mModuleNotFoundError\u001b[39m                       Traceback (most recent call last)",
      "\u001b[36mCell\u001b[39m\u001b[36m \u001b[39m\u001b[32mIn[24]\u001b[39m\u001b[32m, line 4\u001b[39m\n\u001b[32m      1\u001b[39m \u001b[38;5;66;03m#+\u001b[39;00m\n\u001b[32m      2\u001b[39m \u001b[38;5;66;03m# Comparing dates as dates\u001b[39;00m\n\u001b[32m      3\u001b[39m \u001b[38;5;66;03m#-\u001b[39;00m\n\u001b[32m----> \u001b[39m\u001b[32m4\u001b[39m \u001b[38;5;28;01mimport\u001b[39;00m\u001b[38;5;250m \u001b[39m\u001b[34;01mpanas\u001b[39;00m\u001b[38;5;250m \u001b[39m\u001b[38;5;28;01mas\u001b[39;00m\u001b[38;5;250m \u001b[39m\u001b[34;01mpd\u001b[39;00m\n\u001b[32m      6\u001b[39m \u001b[38;5;28;01mif\u001b[39;00m pd.to_datetime(\u001b[33m'\u001b[39m\u001b[33m14-11-2025\u001b[39m\u001b[33m'\u001b[39m) > pd.to_datetime(\u001b[33m'\u001b[39m\u001b[33m05-20-2024\u001b[39m\u001b[33m'\u001b[39m):\n\u001b[32m      7\u001b[39m     \u001b[38;5;28mprint\u001b[39m(\u001b[33m\"\u001b[39m\u001b[33m04-11-2025 is later than 05-20-2024\u001b[39m\u001b[33m\"\u001b[39m)\n",
      "\u001b[31mModuleNotFoundError\u001b[39m: No module named 'panas'"
     ]
    }
   ],
   "source": [
    "#+\n",
    "# Comparing dates as dates\n",
    "#-\n",
    "import panas as pd\n",
    "\n",
    "if pd.to_datetime('14-11-2025') > pd.to_datetime('05-20-2024'):\n",
    "    print(\"04-11-2025 is later than 05-20-2024\")\n",
    "else:\n",
    "    print(\"04-11-2025 is earlier than 05-20-2024\")"
   ]
  },
  {
   "cell_type": "code",
   "execution_count": null,
   "id": "9327b64e-226d-4df1-a7cb-c9f357b8d2c5",
   "metadata": {
    "vscode": {
     "languageId": "quarto"
    }
   },
   "outputs": [
    {
     "name": "stdout",
     "output_type": "stream",
     "text": [
      "04-11-2025 is later than 05-20-2024\n"
     ]
    },
    {
     "name": "stderr",
     "output_type": "stream",
     "text": [
      "<ipython-input-25-d91c3497502f>:6: UserWarning: Parsing dates in %d-%m-%Y format when dayfirst=False (the default) was specified. Pass `dayfirst=True` or specify a format to silence this warning.\n",
      "  if pd.to_datetime('14-11-2025') > pd.to_datetime('05-20-2024'):\n"
     ]
    }
   ],
   "source": [
    "#+\n",
    "# Comparing dates as dates\n",
    "#-\n",
    "import pandas as pd\n",
    "\n",
    "if pd.to_datetime('14-11-2025') > pd.to_datetime('05-20-2024'):\n",
    "    print(\"04-11-2025 is later than 05-20-2024\")\n",
    "else:\n",
    "    print(\"04-11-2025 is earlier than 05-20-2024\")"
   ]
  },
  {
   "cell_type": "code",
   "execution_count": null,
   "id": "b479b701-f77b-47a1-acb2-e28a1744b1db",
   "metadata": {
    "vscode": {
     "languageId": "quarto"
    }
   },
   "outputs": [
    {
     "name": "stdout",
     "output_type": "stream",
     "text": [
      "(4000,)\n",
      "(4000,)\n"
     ]
    }
   ],
   "source": [
    "#+\n",
    "# Shape of actualShipDate and plannedShipDate\n",
    "#-\n",
    "print(shipments_df['actualShipDate'].shape)\n",
    "print(shipments_df['plannedShipDate'].shape)"
   ]
  },
  {
   "cell_type": "code",
   "execution_count": null,
   "id": "4f353254-0911-443e-8a54-7e84784f69cc",
   "metadata": {
    "vscode": {
     "languageId": "quarto"
    }
   },
   "outputs": [
    {
     "name": "stdout",
     "output_type": "stream",
     "text": [
      "(4000,)\n",
      "(4000,)\n"
     ]
    }
   ],
   "source": [
    "#+\n",
    "# Shape of actualShipDate and plannedShipDate\n",
    "#-\n",
    "print(shipments_df['actualShipDate'].shape)\n",
    "print(shipments_df['plannedShipDate'].shape)"
   ]
  },
  {
   "cell_type": "code",
   "execution_count": null,
   "id": "eab3490c-5879-4b01-8fa7-63089e3bcf2f",
   "metadata": {
    "vscode": {
     "languageId": "quarto"
    }
   },
   "outputs": [
    {
     "name": "stdout",
     "output_type": "stream",
     "text": [
      "datetime64[ns]\n"
     ]
    }
   ],
   "source": [
    "print(shipments_df['actualShipDate'].dtype)"
   ]
  },
  {
   "cell_type": "code",
   "execution_count": null,
   "id": "e29e8f9d-7fb2-4810-8949-2a2d5e706708",
   "metadata": {
    "vscode": {
     "languageId": "quarto"
    }
   },
   "outputs": [
    {
     "name": "stdout",
     "output_type": "stream",
     "text": [
      "(4000,)\n",
      "(4000,)\n"
     ]
    }
   ],
   "source": [
    "#+\n",
    "# Shape of actualShipDate and plannedShipDate\n",
    "#-\n",
    "print(shipments_df['actualShipDate'].shape)\n",
    "print(shipments_df['plannedShipDate'].shape)"
   ]
  },
  {
   "cell_type": "code",
   "execution_count": null,
   "id": "e64d81f5-9e2d-4e04-a553-1c2c55a692e8",
   "metadata": {
    "vscode": {
     "languageId": "quarto"
    }
   },
   "outputs": [
    {
     "name": "stdout",
     "output_type": "stream",
     "text": [
      "04-11-2025 is later than 05-20-2024\n"
     ]
    },
    {
     "name": "stderr",
     "output_type": "stream",
     "text": [
      "<ipython-input-30-f03da5cdc6bf>:7: UserWarning: Parsing dates in %d-%m-%Y format when dayfirst=False (the default) was specified. Pass `dayfirst=True` or specify a format to silence this warning.\n",
      "  if pd.to_datetime('14-11-2025') > pd.to_datetime('05-20-2024'):\n"
     ]
    }
   ],
   "source": [
    "#+\n",
    "# Comparing dates as dates\n",
    "# This fails because the date is invalid.\n",
    "#-\n",
    "import pandas as pd\n",
    "\n",
    "if pd.to_datetime('14-11-2025') > pd.to_datetime('05-20-2024'):\n",
    "    print(\"04-11-2025 is later than 05-20-2024\")\n",
    "else:\n",
    "    print(\"04-11-2025 is earlier than 05-20-2024\")"
   ]
  },
  {
   "cell_type": "code",
   "execution_count": null,
   "id": "da0debaf-e067-4269-a8a2-610aa7c15573",
   "metadata": {
    "vscode": {
     "languageId": "quarto"
    }
   },
   "outputs": [
    {
     "name": "stdout",
     "output_type": "stream",
     "text": [
      "04-11-2025 is later than 05-20-2024\n"
     ]
    },
    {
     "name": "stderr",
     "output_type": "stream",
     "text": [
      "<ipython-input-31-f03da5cdc6bf>:7: UserWarning: Parsing dates in %d-%m-%Y format when dayfirst=False (the default) was specified. Pass `dayfirst=True` or specify a format to silence this warning.\n",
      "  if pd.to_datetime('14-11-2025') > pd.to_datetime('05-20-2024'):\n"
     ]
    }
   ],
   "source": [
    "#+\n",
    "# Comparing dates as dates\n",
    "# This fails because the date is invalid.\n",
    "#-\n",
    "import pandas as pd\n",
    "\n",
    "if pd.to_datetime('14-11-2025') > pd.to_datetime('05-20-2024'):\n",
    "    print(\"04-11-2025 is later than 05-20-2024\")\n",
    "else:\n",
    "    print(\"04-11-2025 is earlier than 05-20-2024\")"
   ]
  },
  {
   "cell_type": "code",
   "execution_count": null,
   "id": "42053dbc-acbf-43f9-b3be-cd33eb3410c3",
   "metadata": {
    "vscode": {
     "languageId": "quarto"
    }
   },
   "outputs": [
    {
     "name": "stdout",
     "output_type": "stream",
     "text": [
      "04-11-2025 is later than 05-20-2024\n"
     ]
    },
    {
     "name": "stderr",
     "output_type": "stream",
     "text": [
      "<ipython-input-32-f03da5cdc6bf>:7: UserWarning: Parsing dates in %d-%m-%Y format when dayfirst=False (the default) was specified. Pass `dayfirst=True` or specify a format to silence this warning.\n",
      "  if pd.to_datetime('14-11-2025') > pd.to_datetime('05-20-2024'):\n"
     ]
    }
   ],
   "source": [
    "#+\n",
    "# Comparing dates as dates\n",
    "# This fails because the date is invalid.\n",
    "#-\n",
    "import pandas as pd\n",
    "\n",
    "if pd.to_datetime('14-11-2025') > pd.to_datetime('05-20-2024'):\n",
    "    print(\"04-11-2025 is later than 05-20-2024\")\n",
    "else:\n",
    "    print(\"04-11-2025 is earlier than 05-20-2024\")"
   ]
  },
  {
   "cell_type": "code",
   "execution_count": null,
   "id": "899b7440-5d2a-4456-8fe3-6f81b724645d",
   "metadata": {
    "vscode": {
     "languageId": "quarto"
    }
   },
   "outputs": [
    {
     "name": "stdout",
     "output_type": "stream",
     "text": [
      "04-11-2025 is later than 05-20-2024\n"
     ]
    },
    {
     "name": "stderr",
     "output_type": "stream",
     "text": [
      "<ipython-input-33-f03da5cdc6bf>:7: UserWarning: Parsing dates in %d-%m-%Y format when dayfirst=False (the default) was specified. Pass `dayfirst=True` or specify a format to silence this warning.\n",
      "  if pd.to_datetime('14-11-2025') > pd.to_datetime('05-20-2024'):\n"
     ]
    }
   ],
   "source": [
    "#+\n",
    "# Comparing dates as dates\n",
    "# This fails because the date is invalid.\n",
    "#-\n",
    "import pandas as pd\n",
    "\n",
    "if pd.to_datetime('14-11-2025') > pd.to_datetime('05-20-2024'):\n",
    "    print(\"04-11-2025 is later than 05-20-2024\")\n",
    "else:\n",
    "    print(\"04-11-2025 is earlier than 05-20-2024\")"
   ]
  },
  {
   "cell_type": "code",
   "execution_count": null,
   "id": "1a8f6403-503c-477f-9d90-1ed141e913be",
   "metadata": {
    "vscode": {
     "languageId": "quarto"
    }
   },
   "outputs": [
    {
     "name": "stdout",
     "output_type": "stream",
     "text": [
      "14-11-2025 is later than 05-20-2024 (invalid date)\n"
     ]
    }
   ],
   "source": [
    "#+ \n",
    "# Comparing dates as strings\n",
    "# Example shows comparaison of an invalid date, 14-11-2025, to a valid date, 05-20-2024.\n",
    "#-\n",
    "\n",
    "if '14-11-2025' > '05-20-2024':\n",
    "    print(\"14-11-2025 is later than 05-20-2024 (invalid date)\")\n",
    "else:\n",
    "    print(\"14-11-2025 is earlier than 05-20-2024 (invalid date)\")"
   ]
  },
  {
   "cell_type": "code",
   "execution_count": null,
   "id": "93445007-a171-4bd0-84bd-e0a09bd8f272",
   "metadata": {
    "vscode": {
     "languageId": "quarto"
    }
   },
   "outputs": [
    {
     "ename": "KeyError",
     "evalue": "'is_late'",
     "output_type": "error",
     "traceback": [
      "\u001b[31m---------------------------------------------------------------------------\u001b[39m",
      "\u001b[31mKeyError\u001b[39m                                  Traceback (most recent call last)",
      "\u001b[36mFile \u001b[39m\u001b[32mc:\\Temp\\UD\\MISY0448 Fall 2025 Data Manipulation Visualization GIT\\dataManipulationChallenge\\venv\\Lib\\site-packages\\pandas\\core\\indexes\\base.py:3812\u001b[39m, in \u001b[36mIndex.get_loc\u001b[39m\u001b[34m(self, key)\u001b[39m\n\u001b[32m   3811\u001b[39m \u001b[38;5;28;01mtry\u001b[39;00m:\n\u001b[32m-> \u001b[39m\u001b[32m3812\u001b[39m     \u001b[38;5;28;01mreturn\u001b[39;00m \u001b[38;5;28;43mself\u001b[39;49m\u001b[43m.\u001b[49m\u001b[43m_engine\u001b[49m\u001b[43m.\u001b[49m\u001b[43mget_loc\u001b[49m\u001b[43m(\u001b[49m\u001b[43mcasted_key\u001b[49m\u001b[43m)\u001b[49m\n\u001b[32m   3813\u001b[39m \u001b[38;5;28;01mexcept\u001b[39;00m \u001b[38;5;167;01mKeyError\u001b[39;00m \u001b[38;5;28;01mas\u001b[39;00m err:\n",
      "\u001b[36mFile \u001b[39m\u001b[32mpandas/_libs/index.pyx:167\u001b[39m, in \u001b[36mpandas._libs.index.IndexEngine.get_loc\u001b[39m\u001b[34m()\u001b[39m\n",
      "\u001b[36mFile \u001b[39m\u001b[32mpandas/_libs/index.pyx:196\u001b[39m, in \u001b[36mpandas._libs.index.IndexEngine.get_loc\u001b[39m\u001b[34m()\u001b[39m\n",
      "\u001b[36mFile \u001b[39m\u001b[32mpandas/_libs/hashtable_class_helper.pxi:7088\u001b[39m, in \u001b[36mpandas._libs.hashtable.PyObjectHashTable.get_item\u001b[39m\u001b[34m()\u001b[39m\n",
      "\u001b[36mFile \u001b[39m\u001b[32mpandas/_libs/hashtable_class_helper.pxi:7096\u001b[39m, in \u001b[36mpandas._libs.hashtable.PyObjectHashTable.get_item\u001b[39m\u001b[34m()\u001b[39m\n",
      "\u001b[31mKeyError\u001b[39m: 'is_late'",
      "\nThe above exception was the direct cause of the following exception:\n",
      "\u001b[31mKeyError\u001b[39m                                  Traceback (most recent call last)",
      "\u001b[36mCell\u001b[39m\u001b[36m \u001b[39m\u001b[32mIn[35]\u001b[39m\u001b[32m, line 7\u001b[39m\n\u001b[32m      1\u001b[39m \u001b[38;5;66;03m# This code has an error - can you spot it?\u001b[39;00m\n\u001b[32m      2\u001b[39m shipments_with_lateness = (\n\u001b[32m      3\u001b[39m     shipments_df\n\u001b[32m      4\u001b[39m     .assign(\n\u001b[32m      5\u001b[39m         is_late=\u001b[38;5;28;01mlambda\u001b[39;00m df: df[\u001b[33m'\u001b[39m\u001b[33mactualShipDate\u001b[39m\u001b[33m'\u001b[39m] > df[\u001b[33m'\u001b[39m\u001b[33mplannedShipDate\u001b[39m\u001b[33m'\u001b[39m],\n\u001b[32m      6\u001b[39m         days_late=\u001b[38;5;28;01mlambda\u001b[39;00m df: (df[\u001b[33m'\u001b[39m\u001b[33mactualShipDate\u001b[39m\u001b[33m'\u001b[39m] - df[\u001b[33m'\u001b[39m\u001b[33mplannedShipDate\u001b[39m\u001b[33m'\u001b[39m]).dt.days,\n\u001b[32m----> \u001b[39m\u001b[32m7\u001b[39m         lateStatement=\u001b[33m\"\u001b[39m\u001b[33mDarn Shipment is Late\u001b[39m\u001b[33m\"\u001b[39m \u001b[38;5;28;01mif\u001b[39;00m \u001b[43mshipments_df\u001b[49m\u001b[43m[\u001b[49m\u001b[33;43m'\u001b[39;49m\u001b[33;43mis_late\u001b[39;49m\u001b[33;43m'\u001b[39;49m\u001b[43m]\u001b[49m \u001b[38;5;28;01melse\u001b[39;00m \u001b[33m\"\u001b[39m\u001b[33mShipment is on Time\u001b[39m\u001b[33m\"\u001b[39m\n\u001b[32m      8\u001b[39m     )\n\u001b[32m      9\u001b[39m )\n",
      "\u001b[36mFile \u001b[39m\u001b[32mc:\\Temp\\UD\\MISY0448 Fall 2025 Data Manipulation Visualization GIT\\dataManipulationChallenge\\venv\\Lib\\site-packages\\pandas\\core\\frame.py:4113\u001b[39m, in \u001b[36mDataFrame.__getitem__\u001b[39m\u001b[34m(self, key)\u001b[39m\n\u001b[32m   4111\u001b[39m \u001b[38;5;28;01mif\u001b[39;00m \u001b[38;5;28mself\u001b[39m.columns.nlevels > \u001b[32m1\u001b[39m:\n\u001b[32m   4112\u001b[39m     \u001b[38;5;28;01mreturn\u001b[39;00m \u001b[38;5;28mself\u001b[39m._getitem_multilevel(key)\n\u001b[32m-> \u001b[39m\u001b[32m4113\u001b[39m indexer = \u001b[38;5;28;43mself\u001b[39;49m\u001b[43m.\u001b[49m\u001b[43mcolumns\u001b[49m\u001b[43m.\u001b[49m\u001b[43mget_loc\u001b[49m\u001b[43m(\u001b[49m\u001b[43mkey\u001b[49m\u001b[43m)\u001b[49m\n\u001b[32m   4114\u001b[39m \u001b[38;5;28;01mif\u001b[39;00m is_integer(indexer):\n\u001b[32m   4115\u001b[39m     indexer = [indexer]\n",
      "\u001b[36mFile \u001b[39m\u001b[32mc:\\Temp\\UD\\MISY0448 Fall 2025 Data Manipulation Visualization GIT\\dataManipulationChallenge\\venv\\Lib\\site-packages\\pandas\\core\\indexes\\base.py:3819\u001b[39m, in \u001b[36mIndex.get_loc\u001b[39m\u001b[34m(self, key)\u001b[39m\n\u001b[32m   3814\u001b[39m     \u001b[38;5;28;01mif\u001b[39;00m \u001b[38;5;28misinstance\u001b[39m(casted_key, \u001b[38;5;28mslice\u001b[39m) \u001b[38;5;129;01mor\u001b[39;00m (\n\u001b[32m   3815\u001b[39m         \u001b[38;5;28misinstance\u001b[39m(casted_key, abc.Iterable)\n\u001b[32m   3816\u001b[39m         \u001b[38;5;129;01mand\u001b[39;00m \u001b[38;5;28many\u001b[39m(\u001b[38;5;28misinstance\u001b[39m(x, \u001b[38;5;28mslice\u001b[39m) \u001b[38;5;28;01mfor\u001b[39;00m x \u001b[38;5;129;01min\u001b[39;00m casted_key)\n\u001b[32m   3817\u001b[39m     ):\n\u001b[32m   3818\u001b[39m         \u001b[38;5;28;01mraise\u001b[39;00m InvalidIndexError(key)\n\u001b[32m-> \u001b[39m\u001b[32m3819\u001b[39m     \u001b[38;5;28;01mraise\u001b[39;00m \u001b[38;5;167;01mKeyError\u001b[39;00m(key) \u001b[38;5;28;01mfrom\u001b[39;00m\u001b[38;5;250m \u001b[39m\u001b[34;01merr\u001b[39;00m\n\u001b[32m   3820\u001b[39m \u001b[38;5;28;01mexcept\u001b[39;00m \u001b[38;5;167;01mTypeError\u001b[39;00m:\n\u001b[32m   3821\u001b[39m     \u001b[38;5;66;03m# If we have a listlike key, _check_indexing_error will raise\u001b[39;00m\n\u001b[32m   3822\u001b[39m     \u001b[38;5;66;03m#  InvalidIndexError. Otherwise we fall through and re-raise\u001b[39;00m\n\u001b[32m   3823\u001b[39m     \u001b[38;5;66;03m#  the TypeError.\u001b[39;00m\n\u001b[32m   3824\u001b[39m     \u001b[38;5;28mself\u001b[39m._check_indexing_error(key)\n",
      "\u001b[31mKeyError\u001b[39m: 'is_late'"
     ]
    }
   ],
   "source": [
    "# This code has an error - can you spot it?\n",
    "shipments_with_lateness = (\n",
    "    shipments_df\n",
    "    .assign(\n",
    "        is_late=lambda df: df['actualShipDate'] > df['plannedShipDate'],\n",
    "        days_late=lambda df: (df['actualShipDate'] - df['plannedShipDate']).dt.days,\n",
    "        lateStatement=\"Darn Shipment is Late\" if shipments_df['is_late'] else \"Shipment is on Time\"\n",
    "    )\n",
    ")"
   ]
  },
  {
   "cell_type": "code",
   "execution_count": null,
   "id": "e074c0e9-de01-4759-8c86-659e6483ec78",
   "metadata": {
    "vscode": {
     "languageId": "quarto"
    }
   },
   "outputs": [
    {
     "ename": "KeyError",
     "evalue": "'is_late'",
     "output_type": "error",
     "traceback": [
      "\u001b[31m---------------------------------------------------------------------------\u001b[39m",
      "\u001b[31mKeyError\u001b[39m                                  Traceback (most recent call last)",
      "\u001b[36mFile \u001b[39m\u001b[32mc:\\Temp\\UD\\MISY0448 Fall 2025 Data Manipulation Visualization GIT\\dataManipulationChallenge\\venv\\Lib\\site-packages\\pandas\\core\\indexes\\base.py:3812\u001b[39m, in \u001b[36mIndex.get_loc\u001b[39m\u001b[34m(self, key)\u001b[39m\n\u001b[32m   3811\u001b[39m \u001b[38;5;28;01mtry\u001b[39;00m:\n\u001b[32m-> \u001b[39m\u001b[32m3812\u001b[39m     \u001b[38;5;28;01mreturn\u001b[39;00m \u001b[38;5;28;43mself\u001b[39;49m\u001b[43m.\u001b[49m\u001b[43m_engine\u001b[49m\u001b[43m.\u001b[49m\u001b[43mget_loc\u001b[49m\u001b[43m(\u001b[49m\u001b[43mcasted_key\u001b[49m\u001b[43m)\u001b[49m\n\u001b[32m   3813\u001b[39m \u001b[38;5;28;01mexcept\u001b[39;00m \u001b[38;5;167;01mKeyError\u001b[39;00m \u001b[38;5;28;01mas\u001b[39;00m err:\n",
      "\u001b[36mFile \u001b[39m\u001b[32mpandas/_libs/index.pyx:167\u001b[39m, in \u001b[36mpandas._libs.index.IndexEngine.get_loc\u001b[39m\u001b[34m()\u001b[39m\n",
      "\u001b[36mFile \u001b[39m\u001b[32mpandas/_libs/index.pyx:196\u001b[39m, in \u001b[36mpandas._libs.index.IndexEngine.get_loc\u001b[39m\u001b[34m()\u001b[39m\n",
      "\u001b[36mFile \u001b[39m\u001b[32mpandas/_libs/hashtable_class_helper.pxi:7088\u001b[39m, in \u001b[36mpandas._libs.hashtable.PyObjectHashTable.get_item\u001b[39m\u001b[34m()\u001b[39m\n",
      "\u001b[36mFile \u001b[39m\u001b[32mpandas/_libs/hashtable_class_helper.pxi:7096\u001b[39m, in \u001b[36mpandas._libs.hashtable.PyObjectHashTable.get_item\u001b[39m\u001b[34m()\u001b[39m\n",
      "\u001b[31mKeyError\u001b[39m: 'is_late'",
      "\nThe above exception was the direct cause of the following exception:\n",
      "\u001b[31mKeyError\u001b[39m                                  Traceback (most recent call last)",
      "\u001b[36mCell\u001b[39m\u001b[36m \u001b[39m\u001b[32mIn[36]\u001b[39m\u001b[32m, line 7\u001b[39m\n\u001b[32m      1\u001b[39m \u001b[38;5;66;03m# This code has an error - can you spot it?\u001b[39;00m\n\u001b[32m      2\u001b[39m shipments_with_lateness = (\n\u001b[32m      3\u001b[39m     shipments_df\n\u001b[32m      4\u001b[39m     .assign(\n\u001b[32m      5\u001b[39m         is_late=\u001b[38;5;28;01mlambda\u001b[39;00m df: df[\u001b[33m'\u001b[39m\u001b[33mactualShipDate\u001b[39m\u001b[33m'\u001b[39m] > df[\u001b[33m'\u001b[39m\u001b[33mplannedShipDate\u001b[39m\u001b[33m'\u001b[39m],\n\u001b[32m      6\u001b[39m         days_late=\u001b[38;5;28;01mlambda\u001b[39;00m df: (df[\u001b[33m'\u001b[39m\u001b[33mactualShipDate\u001b[39m\u001b[33m'\u001b[39m] - df[\u001b[33m'\u001b[39m\u001b[33mplannedShipDate\u001b[39m\u001b[33m'\u001b[39m]).dt.days,\n\u001b[32m----> \u001b[39m\u001b[32m7\u001b[39m         lateStatement=\u001b[33m\"\u001b[39m\u001b[33mDarn Shipment is Late\u001b[39m\u001b[33m\"\u001b[39m \u001b[38;5;28;01mif\u001b[39;00m \u001b[43mshipments_df\u001b[49m\u001b[43m[\u001b[49m\u001b[33;43m'\u001b[39;49m\u001b[33;43mis_late\u001b[39;49m\u001b[33;43m'\u001b[39;49m\u001b[43m]\u001b[49m \u001b[38;5;28;01melse\u001b[39;00m \u001b[33m\"\u001b[39m\u001b[33mShipment is on Time\u001b[39m\u001b[33m\"\u001b[39m\n\u001b[32m      8\u001b[39m     )\n\u001b[32m      9\u001b[39m )\n",
      "\u001b[36mFile \u001b[39m\u001b[32mc:\\Temp\\UD\\MISY0448 Fall 2025 Data Manipulation Visualization GIT\\dataManipulationChallenge\\venv\\Lib\\site-packages\\pandas\\core\\frame.py:4113\u001b[39m, in \u001b[36mDataFrame.__getitem__\u001b[39m\u001b[34m(self, key)\u001b[39m\n\u001b[32m   4111\u001b[39m \u001b[38;5;28;01mif\u001b[39;00m \u001b[38;5;28mself\u001b[39m.columns.nlevels > \u001b[32m1\u001b[39m:\n\u001b[32m   4112\u001b[39m     \u001b[38;5;28;01mreturn\u001b[39;00m \u001b[38;5;28mself\u001b[39m._getitem_multilevel(key)\n\u001b[32m-> \u001b[39m\u001b[32m4113\u001b[39m indexer = \u001b[38;5;28;43mself\u001b[39;49m\u001b[43m.\u001b[49m\u001b[43mcolumns\u001b[49m\u001b[43m.\u001b[49m\u001b[43mget_loc\u001b[49m\u001b[43m(\u001b[49m\u001b[43mkey\u001b[49m\u001b[43m)\u001b[49m\n\u001b[32m   4114\u001b[39m \u001b[38;5;28;01mif\u001b[39;00m is_integer(indexer):\n\u001b[32m   4115\u001b[39m     indexer = [indexer]\n",
      "\u001b[36mFile \u001b[39m\u001b[32mc:\\Temp\\UD\\MISY0448 Fall 2025 Data Manipulation Visualization GIT\\dataManipulationChallenge\\venv\\Lib\\site-packages\\pandas\\core\\indexes\\base.py:3819\u001b[39m, in \u001b[36mIndex.get_loc\u001b[39m\u001b[34m(self, key)\u001b[39m\n\u001b[32m   3814\u001b[39m     \u001b[38;5;28;01mif\u001b[39;00m \u001b[38;5;28misinstance\u001b[39m(casted_key, \u001b[38;5;28mslice\u001b[39m) \u001b[38;5;129;01mor\u001b[39;00m (\n\u001b[32m   3815\u001b[39m         \u001b[38;5;28misinstance\u001b[39m(casted_key, abc.Iterable)\n\u001b[32m   3816\u001b[39m         \u001b[38;5;129;01mand\u001b[39;00m \u001b[38;5;28many\u001b[39m(\u001b[38;5;28misinstance\u001b[39m(x, \u001b[38;5;28mslice\u001b[39m) \u001b[38;5;28;01mfor\u001b[39;00m x \u001b[38;5;129;01min\u001b[39;00m casted_key)\n\u001b[32m   3817\u001b[39m     ):\n\u001b[32m   3818\u001b[39m         \u001b[38;5;28;01mraise\u001b[39;00m InvalidIndexError(key)\n\u001b[32m-> \u001b[39m\u001b[32m3819\u001b[39m     \u001b[38;5;28;01mraise\u001b[39;00m \u001b[38;5;167;01mKeyError\u001b[39;00m(key) \u001b[38;5;28;01mfrom\u001b[39;00m\u001b[38;5;250m \u001b[39m\u001b[34;01merr\u001b[39;00m\n\u001b[32m   3820\u001b[39m \u001b[38;5;28;01mexcept\u001b[39;00m \u001b[38;5;167;01mTypeError\u001b[39;00m:\n\u001b[32m   3821\u001b[39m     \u001b[38;5;66;03m# If we have a listlike key, _check_indexing_error will raise\u001b[39;00m\n\u001b[32m   3822\u001b[39m     \u001b[38;5;66;03m#  InvalidIndexError. Otherwise we fall through and re-raise\u001b[39;00m\n\u001b[32m   3823\u001b[39m     \u001b[38;5;66;03m#  the TypeError.\u001b[39;00m\n\u001b[32m   3824\u001b[39m     \u001b[38;5;28mself\u001b[39m._check_indexing_error(key)\n",
      "\u001b[31mKeyError\u001b[39m: 'is_late'"
     ]
    }
   ],
   "source": [
    "# This code has an error - can you spot it?\n",
    "shipments_with_lateness = (\n",
    "    shipments_df\n",
    "    .assign(\n",
    "        is_late=lambda df: df['actualShipDate'] > df['plannedShipDate'],\n",
    "        days_late=lambda df: (df['actualShipDate'] - df['plannedShipDate']).dt.days,\n",
    "        lateStatement=\"Darn Shipment is Late\" if shipments_df['is_late'] else \"Shipment is on Time\"\n",
    "    )\n",
    ")"
   ]
  },
  {
   "cell_type": "code",
   "execution_count": null,
   "id": "5a202760-0a3b-4881-9d0a-07807d922e9c",
   "metadata": {
    "vscode": {
     "languageId": "quarto"
    }
   },
   "outputs": [
    {
     "ename": "KeyError",
     "evalue": "'is_late'",
     "output_type": "error",
     "traceback": [
      "\u001b[31m---------------------------------------------------------------------------\u001b[39m",
      "\u001b[31mKeyError\u001b[39m                                  Traceback (most recent call last)",
      "\u001b[36mFile \u001b[39m\u001b[32mc:\\Temp\\UD\\MISY0448 Fall 2025 Data Manipulation Visualization GIT\\dataManipulationChallenge\\venv\\Lib\\site-packages\\pandas\\core\\indexes\\base.py:3812\u001b[39m, in \u001b[36mIndex.get_loc\u001b[39m\u001b[34m(self, key)\u001b[39m\n\u001b[32m   3811\u001b[39m \u001b[38;5;28;01mtry\u001b[39;00m:\n\u001b[32m-> \u001b[39m\u001b[32m3812\u001b[39m     \u001b[38;5;28;01mreturn\u001b[39;00m \u001b[38;5;28;43mself\u001b[39;49m\u001b[43m.\u001b[49m\u001b[43m_engine\u001b[49m\u001b[43m.\u001b[49m\u001b[43mget_loc\u001b[49m\u001b[43m(\u001b[49m\u001b[43mcasted_key\u001b[49m\u001b[43m)\u001b[49m\n\u001b[32m   3813\u001b[39m \u001b[38;5;28;01mexcept\u001b[39;00m \u001b[38;5;167;01mKeyError\u001b[39;00m \u001b[38;5;28;01mas\u001b[39;00m err:\n",
      "\u001b[36mFile \u001b[39m\u001b[32mpandas/_libs/index.pyx:167\u001b[39m, in \u001b[36mpandas._libs.index.IndexEngine.get_loc\u001b[39m\u001b[34m()\u001b[39m\n",
      "\u001b[36mFile \u001b[39m\u001b[32mpandas/_libs/index.pyx:196\u001b[39m, in \u001b[36mpandas._libs.index.IndexEngine.get_loc\u001b[39m\u001b[34m()\u001b[39m\n",
      "\u001b[36mFile \u001b[39m\u001b[32mpandas/_libs/hashtable_class_helper.pxi:7088\u001b[39m, in \u001b[36mpandas._libs.hashtable.PyObjectHashTable.get_item\u001b[39m\u001b[34m()\u001b[39m\n",
      "\u001b[36mFile \u001b[39m\u001b[32mpandas/_libs/hashtable_class_helper.pxi:7096\u001b[39m, in \u001b[36mpandas._libs.hashtable.PyObjectHashTable.get_item\u001b[39m\u001b[34m()\u001b[39m\n",
      "\u001b[31mKeyError\u001b[39m: 'is_late'",
      "\nThe above exception was the direct cause of the following exception:\n",
      "\u001b[31mKeyError\u001b[39m                                  Traceback (most recent call last)",
      "\u001b[36mCell\u001b[39m\u001b[36m \u001b[39m\u001b[32mIn[37]\u001b[39m\u001b[32m, line 7\u001b[39m\n\u001b[32m      1\u001b[39m \u001b[38;5;66;03m# This code has an error - can you spot it?\u001b[39;00m\n\u001b[32m      2\u001b[39m shipments_with_lateness = (\n\u001b[32m      3\u001b[39m     shipments_df\n\u001b[32m      4\u001b[39m     .assign(\n\u001b[32m      5\u001b[39m         is_late=\u001b[38;5;28;01mlambda\u001b[39;00m df: df[\u001b[33m'\u001b[39m\u001b[33mactualShipDate\u001b[39m\u001b[33m'\u001b[39m] > df[\u001b[33m'\u001b[39m\u001b[33mplannedShipDate\u001b[39m\u001b[33m'\u001b[39m],\n\u001b[32m      6\u001b[39m         days_late=\u001b[38;5;28;01mlambda\u001b[39;00m df: (df[\u001b[33m'\u001b[39m\u001b[33mactualShipDate\u001b[39m\u001b[33m'\u001b[39m] - df[\u001b[33m'\u001b[39m\u001b[33mplannedShipDate\u001b[39m\u001b[33m'\u001b[39m]).dt.days,\n\u001b[32m----> \u001b[39m\u001b[32m7\u001b[39m         lateStatement=\u001b[33m\"\u001b[39m\u001b[33mDarn Shipment is Late\u001b[39m\u001b[33m\"\u001b[39m \u001b[38;5;28;01mif\u001b[39;00m \u001b[43mshipments_df\u001b[49m\u001b[43m[\u001b[49m\u001b[33;43m'\u001b[39;49m\u001b[33;43mis_late\u001b[39;49m\u001b[33;43m'\u001b[39;49m\u001b[43m]\u001b[49m \u001b[38;5;28;01melse\u001b[39;00m \u001b[33m\"\u001b[39m\u001b[33mShipment is on Time\u001b[39m\u001b[33m\"\u001b[39m\n\u001b[32m      8\u001b[39m     )\n\u001b[32m      9\u001b[39m )\n",
      "\u001b[36mFile \u001b[39m\u001b[32mc:\\Temp\\UD\\MISY0448 Fall 2025 Data Manipulation Visualization GIT\\dataManipulationChallenge\\venv\\Lib\\site-packages\\pandas\\core\\frame.py:4113\u001b[39m, in \u001b[36mDataFrame.__getitem__\u001b[39m\u001b[34m(self, key)\u001b[39m\n\u001b[32m   4111\u001b[39m \u001b[38;5;28;01mif\u001b[39;00m \u001b[38;5;28mself\u001b[39m.columns.nlevels > \u001b[32m1\u001b[39m:\n\u001b[32m   4112\u001b[39m     \u001b[38;5;28;01mreturn\u001b[39;00m \u001b[38;5;28mself\u001b[39m._getitem_multilevel(key)\n\u001b[32m-> \u001b[39m\u001b[32m4113\u001b[39m indexer = \u001b[38;5;28;43mself\u001b[39;49m\u001b[43m.\u001b[49m\u001b[43mcolumns\u001b[49m\u001b[43m.\u001b[49m\u001b[43mget_loc\u001b[49m\u001b[43m(\u001b[49m\u001b[43mkey\u001b[49m\u001b[43m)\u001b[49m\n\u001b[32m   4114\u001b[39m \u001b[38;5;28;01mif\u001b[39;00m is_integer(indexer):\n\u001b[32m   4115\u001b[39m     indexer = [indexer]\n",
      "\u001b[36mFile \u001b[39m\u001b[32mc:\\Temp\\UD\\MISY0448 Fall 2025 Data Manipulation Visualization GIT\\dataManipulationChallenge\\venv\\Lib\\site-packages\\pandas\\core\\indexes\\base.py:3819\u001b[39m, in \u001b[36mIndex.get_loc\u001b[39m\u001b[34m(self, key)\u001b[39m\n\u001b[32m   3814\u001b[39m     \u001b[38;5;28;01mif\u001b[39;00m \u001b[38;5;28misinstance\u001b[39m(casted_key, \u001b[38;5;28mslice\u001b[39m) \u001b[38;5;129;01mor\u001b[39;00m (\n\u001b[32m   3815\u001b[39m         \u001b[38;5;28misinstance\u001b[39m(casted_key, abc.Iterable)\n\u001b[32m   3816\u001b[39m         \u001b[38;5;129;01mand\u001b[39;00m \u001b[38;5;28many\u001b[39m(\u001b[38;5;28misinstance\u001b[39m(x, \u001b[38;5;28mslice\u001b[39m) \u001b[38;5;28;01mfor\u001b[39;00m x \u001b[38;5;129;01min\u001b[39;00m casted_key)\n\u001b[32m   3817\u001b[39m     ):\n\u001b[32m   3818\u001b[39m         \u001b[38;5;28;01mraise\u001b[39;00m InvalidIndexError(key)\n\u001b[32m-> \u001b[39m\u001b[32m3819\u001b[39m     \u001b[38;5;28;01mraise\u001b[39;00m \u001b[38;5;167;01mKeyError\u001b[39;00m(key) \u001b[38;5;28;01mfrom\u001b[39;00m\u001b[38;5;250m \u001b[39m\u001b[34;01merr\u001b[39;00m\n\u001b[32m   3820\u001b[39m \u001b[38;5;28;01mexcept\u001b[39;00m \u001b[38;5;167;01mTypeError\u001b[39;00m:\n\u001b[32m   3821\u001b[39m     \u001b[38;5;66;03m# If we have a listlike key, _check_indexing_error will raise\u001b[39;00m\n\u001b[32m   3822\u001b[39m     \u001b[38;5;66;03m#  InvalidIndexError. Otherwise we fall through and re-raise\u001b[39;00m\n\u001b[32m   3823\u001b[39m     \u001b[38;5;66;03m#  the TypeError.\u001b[39;00m\n\u001b[32m   3824\u001b[39m     \u001b[38;5;28mself\u001b[39m._check_indexing_error(key)\n",
      "\u001b[31mKeyError\u001b[39m: 'is_late'"
     ]
    }
   ],
   "source": [
    "# This code has an error - can you spot it?\n",
    "shipments_with_lateness = (\n",
    "    shipments_df\n",
    "    .assign(\n",
    "        is_late=lambda df: df['actualShipDate'] > df['plannedShipDate'],\n",
    "        days_late=lambda df: (df['actualShipDate'] - df['plannedShipDate']).dt.days,\n",
    "        lateStatement=\"Darn Shipment is Late\" if shipments_df['is_late'] else \"Shipment is on Time\"\n",
    "    )\n",
    ")"
   ]
  },
  {
   "cell_type": "code",
   "execution_count": null,
   "id": "58a8e3b0-b674-4056-ab37-e7a10b9728f0",
   "metadata": {
    "vscode": {
     "languageId": "quarto"
    }
   },
   "outputs": [],
   "source": [
    "# This code has an error - can you spot it?\n",
    "shipments_with_lateness = (\n",
    "    shipments_df\n",
    "    .assign(\n",
    "        is_late=lambda df: df['actualShipDate'] > df['plannedShipDate'],\n",
    "        days_late=lambda df: (df['actualShipDate'] - df['plannedShipDate']).dt.days,\n",
    "        lateStatement=lambda df: df['is_late'].map({True: \"Darn Shipment is Late\", False: \"Shipment is on Time\"})\n",
    "    )\n",
    ")"
   ]
  },
  {
   "cell_type": "code",
   "execution_count": null,
   "id": "cd8a839e-23e5-45d2-9d18-abd5fb43cfa8",
   "metadata": {
    "vscode": {
     "languageId": "quarto"
    }
   },
   "outputs": [],
   "source": [
    "# This code has an error - can you spot it?\n",
    "shipments_with_lateness = (\n",
    "    shipments_df\n",
    "    .assign(\n",
    "        is_late=lambda df: df['actualShipDate'] > df['plannedShipDate'],\n",
    "        days_late=lambda df: (df['actualShipDate'] - df['plannedShipDate']).dt.days,\n",
    "        lateStatement=lambda df: df['is_late'].map({True: \"Darn Shipment is Late\", False: \"Shipment is on Time\"})\n",
    "    )\n",
    ")"
   ]
  },
  {
   "cell_type": "code",
   "execution_count": null,
   "id": "e324f158-fc37-458a-b336-a8fad443ef76",
   "metadata": {
    "vscode": {
     "languageId": "quarto"
    }
   },
   "outputs": [],
   "source": [
    "# This code has an error - can you spot it?\n",
    "shipments_with_lateness = (\n",
    "    shipments_df\n",
    "    .assign(\n",
    "        is_late=lambda df: df['actualShipDate'] > df['plannedShipDate'],\n",
    "        days_late=lambda df: (df['actualShipDate'] - df['plannedShipDate']).dt.days,\n",
    "        lateStatement=lambda df: df['is_late'].map({True: \"Darn Shipment is Late\", False: \"Shipment is on Time\"})\n",
    "    )\n",
    ")"
   ]
  },
  {
   "cell_type": "code",
   "execution_count": null,
   "id": "07a7404f-8f71-4424-a1df-9ea2be06bf9f",
   "metadata": {
    "vscode": {
     "languageId": "quarto"
    }
   },
   "outputs": [],
   "source": [
    "# This code has an error - can you spot it?\n",
    "shipments_with_lateness = (\n",
    "    shipments_df\n",
    "    .assign(\n",
    "        is_late=lambda df: df['actualShipDate'] > df['plannedShipDate'],\n",
    "        days_late=lambda df: (df['actualShipDate'] - df['plannedShipDate']).dt.days,\n",
    "        lateStatement=lambda df: df['is_late'].map({True: \"Darn Shipment is Late\", False: \"Shipment is on Time\"})\n",
    "    )\n",
    ")"
   ]
  },
  {
   "cell_type": "code",
   "execution_count": null,
   "id": "48db732a-db9f-4afa-a327-b6deff93dbc4",
   "metadata": {
    "vscode": {
     "languageId": "quarto"
    }
   },
   "outputs": [
    {
     "data": {
      "text/html": [
       "<div>\n",
       "<style scoped>\n",
       "    .dataframe tbody tr th:only-of-type {\n",
       "        vertical-align: middle;\n",
       "    }\n",
       "\n",
       "    .dataframe tbody tr th {\n",
       "        vertical-align: top;\n",
       "    }\n",
       "\n",
       "    .dataframe thead th {\n",
       "        text-align: right;\n",
       "    }\n",
       "</style>\n",
       "<table border=\"1\" class=\"dataframe\">\n",
       "  <thead>\n",
       "    <tr style=\"text-align: right;\">\n",
       "      <th></th>\n",
       "      <th>shipID</th>\n",
       "      <th>plannedShipDate</th>\n",
       "      <th>actualShipDate</th>\n",
       "      <th>partID</th>\n",
       "      <th>quantity</th>\n",
       "      <th>is_late</th>\n",
       "      <th>days_late</th>\n",
       "      <th>lateStatement</th>\n",
       "    </tr>\n",
       "  </thead>\n",
       "  <tbody>\n",
       "    <tr>\n",
       "      <th>0</th>\n",
       "      <td>10001</td>\n",
       "      <td>2013-11-06</td>\n",
       "      <td>2013-10-04</td>\n",
       "      <td>part92b16c5</td>\n",
       "      <td>6</td>\n",
       "      <td>False</td>\n",
       "      <td>-33</td>\n",
       "      <td>Shipment is on Time</td>\n",
       "    </tr>\n",
       "    <tr>\n",
       "      <th>1</th>\n",
       "      <td>10002</td>\n",
       "      <td>2013-10-15</td>\n",
       "      <td>2013-10-04</td>\n",
       "      <td>part66983b</td>\n",
       "      <td>2</td>\n",
       "      <td>False</td>\n",
       "      <td>-11</td>\n",
       "      <td>Shipment is on Time</td>\n",
       "    </tr>\n",
       "    <tr>\n",
       "      <th>2</th>\n",
       "      <td>10003</td>\n",
       "      <td>2013-10-25</td>\n",
       "      <td>2013-10-07</td>\n",
       "      <td>part8e36f25</td>\n",
       "      <td>1</td>\n",
       "      <td>False</td>\n",
       "      <td>-18</td>\n",
       "      <td>Shipment is on Time</td>\n",
       "    </tr>\n",
       "    <tr>\n",
       "      <th>3</th>\n",
       "      <td>10004</td>\n",
       "      <td>2013-10-14</td>\n",
       "      <td>2013-10-08</td>\n",
       "      <td>part30f5de0</td>\n",
       "      <td>1</td>\n",
       "      <td>False</td>\n",
       "      <td>-6</td>\n",
       "      <td>Shipment is on Time</td>\n",
       "    </tr>\n",
       "    <tr>\n",
       "      <th>4</th>\n",
       "      <td>10005</td>\n",
       "      <td>2013-10-14</td>\n",
       "      <td>2013-10-08</td>\n",
       "      <td>part9d64d35</td>\n",
       "      <td>6</td>\n",
       "      <td>False</td>\n",
       "      <td>-6</td>\n",
       "      <td>Shipment is on Time</td>\n",
       "    </tr>\n",
       "    <tr>\n",
       "      <th>...</th>\n",
       "      <td>...</td>\n",
       "      <td>...</td>\n",
       "      <td>...</td>\n",
       "      <td>...</td>\n",
       "      <td>...</td>\n",
       "      <td>...</td>\n",
       "      <td>...</td>\n",
       "      <td>...</td>\n",
       "    </tr>\n",
       "    <tr>\n",
       "      <th>3995</th>\n",
       "      <td>10999</td>\n",
       "      <td>2013-10-15</td>\n",
       "      <td>2013-10-15</td>\n",
       "      <td>part0275794</td>\n",
       "      <td>6</td>\n",
       "      <td>False</td>\n",
       "      <td>0</td>\n",
       "      <td>Shipment is on Time</td>\n",
       "    </tr>\n",
       "    <tr>\n",
       "      <th>3996</th>\n",
       "      <td>10999</td>\n",
       "      <td>2013-10-15</td>\n",
       "      <td>2013-10-15</td>\n",
       "      <td>part04da31b</td>\n",
       "      <td>6</td>\n",
       "      <td>False</td>\n",
       "      <td>0</td>\n",
       "      <td>Shipment is on Time</td>\n",
       "    </tr>\n",
       "    <tr>\n",
       "      <th>3997</th>\n",
       "      <td>11001</td>\n",
       "      <td>2013-10-04</td>\n",
       "      <td>2013-10-15</td>\n",
       "      <td>partd4952a8</td>\n",
       "      <td>1</td>\n",
       "      <td>True</td>\n",
       "      <td>11</td>\n",
       "      <td>Darn Shipment is Late</td>\n",
       "    </tr>\n",
       "    <tr>\n",
       "      <th>3998</th>\n",
       "      <td>11002</td>\n",
       "      <td>2013-10-15</td>\n",
       "      <td>2013-10-15</td>\n",
       "      <td>parta8850c7</td>\n",
       "      <td>12</td>\n",
       "      <td>False</td>\n",
       "      <td>0</td>\n",
       "      <td>Shipment is on Time</td>\n",
       "    </tr>\n",
       "    <tr>\n",
       "      <th>3999</th>\n",
       "      <td>11003</td>\n",
       "      <td>2013-10-15</td>\n",
       "      <td>2013-10-15</td>\n",
       "      <td>part7114b3c</td>\n",
       "      <td>15</td>\n",
       "      <td>False</td>\n",
       "      <td>0</td>\n",
       "      <td>Shipment is on Time</td>\n",
       "    </tr>\n",
       "  </tbody>\n",
       "</table>\n",
       "<p>4000 rows × 8 columns</p>\n",
       "</div>"
      ],
      "text/plain": [
       "      shipID plannedShipDate actualShipDate       partID  quantity  is_late  \\\n",
       "0      10001      2013-11-06     2013-10-04  part92b16c5         6    False   \n",
       "1      10002      2013-10-15     2013-10-04   part66983b         2    False   \n",
       "2      10003      2013-10-25     2013-10-07  part8e36f25         1    False   \n",
       "3      10004      2013-10-14     2013-10-08  part30f5de0         1    False   \n",
       "4      10005      2013-10-14     2013-10-08  part9d64d35         6    False   \n",
       "...      ...             ...            ...          ...       ...      ...   \n",
       "3995   10999      2013-10-15     2013-10-15  part0275794         6    False   \n",
       "3996   10999      2013-10-15     2013-10-15  part04da31b         6    False   \n",
       "3997   11001      2013-10-04     2013-10-15  partd4952a8         1     True   \n",
       "3998   11002      2013-10-15     2013-10-15  parta8850c7        12    False   \n",
       "3999   11003      2013-10-15     2013-10-15  part7114b3c        15    False   \n",
       "\n",
       "      days_late          lateStatement  \n",
       "0           -33    Shipment is on Time  \n",
       "1           -11    Shipment is on Time  \n",
       "2           -18    Shipment is on Time  \n",
       "3            -6    Shipment is on Time  \n",
       "4            -6    Shipment is on Time  \n",
       "...         ...                    ...  \n",
       "3995          0    Shipment is on Time  \n",
       "3996          0    Shipment is on Time  \n",
       "3997         11  Darn Shipment is Late  \n",
       "3998          0    Shipment is on Time  \n",
       "3999          0    Shipment is on Time  \n",
       "\n",
       "[4000 rows x 8 columns]"
      ]
     },
     "execution_count": 42,
     "metadata": {},
     "output_type": "execute_result"
    }
   ],
   "source": [
    "# This code has an error - can you spot it?\n",
    "shipments_with_lateness = (\n",
    "    shipments_df\n",
    "    .assign(\n",
    "        is_late=lambda df: df['actualShipDate'] > df['plannedShipDate'],\n",
    "        days_late=lambda df: (df['actualShipDate'] - df['plannedShipDate']).dt.days,\n",
    "        lateStatement=lambda df: df['is_late'].map({True: \"Darn Shipment is Late\", False: \"Shipment is on Time\"})\n",
    "    )\n",
    ")\n",
    "shipments_with_lateness"
   ]
  },
  {
   "cell_type": "code",
   "execution_count": null,
   "id": "7f10ee99-c63d-4373-8d4b-445ff75ad48b",
   "metadata": {
    "vscode": {
     "languageId": "quarto"
    }
   },
   "outputs": [
    {
     "data": {
      "text/html": [
       "<div>\n",
       "<style scoped>\n",
       "    .dataframe tbody tr th:only-of-type {\n",
       "        vertical-align: middle;\n",
       "    }\n",
       "\n",
       "    .dataframe tbody tr th {\n",
       "        vertical-align: top;\n",
       "    }\n",
       "\n",
       "    .dataframe thead th {\n",
       "        text-align: right;\n",
       "    }\n",
       "</style>\n",
       "<table border=\"1\" class=\"dataframe\">\n",
       "  <thead>\n",
       "    <tr style=\"text-align: right;\">\n",
       "      <th></th>\n",
       "      <th>shipID</th>\n",
       "      <th>plannedShipDate</th>\n",
       "      <th>actualShipDate</th>\n",
       "      <th>partID</th>\n",
       "      <th>quantity</th>\n",
       "      <th>is_late</th>\n",
       "      <th>days_late</th>\n",
       "      <th>lateStatement</th>\n",
       "    </tr>\n",
       "  </thead>\n",
       "  <tbody>\n",
       "    <tr>\n",
       "      <th>0</th>\n",
       "      <td>10001</td>\n",
       "      <td>2013-11-06</td>\n",
       "      <td>2013-10-04</td>\n",
       "      <td>part92b16c5</td>\n",
       "      <td>6</td>\n",
       "      <td>False</td>\n",
       "      <td>-33</td>\n",
       "      <td>Shipment is on Time</td>\n",
       "    </tr>\n",
       "    <tr>\n",
       "      <th>1</th>\n",
       "      <td>10002</td>\n",
       "      <td>2013-10-15</td>\n",
       "      <td>2013-10-04</td>\n",
       "      <td>part66983b</td>\n",
       "      <td>2</td>\n",
       "      <td>False</td>\n",
       "      <td>-11</td>\n",
       "      <td>Shipment is on Time</td>\n",
       "    </tr>\n",
       "    <tr>\n",
       "      <th>2</th>\n",
       "      <td>10003</td>\n",
       "      <td>2013-10-25</td>\n",
       "      <td>2013-10-07</td>\n",
       "      <td>part8e36f25</td>\n",
       "      <td>1</td>\n",
       "      <td>False</td>\n",
       "      <td>-18</td>\n",
       "      <td>Shipment is on Time</td>\n",
       "    </tr>\n",
       "    <tr>\n",
       "      <th>3</th>\n",
       "      <td>10004</td>\n",
       "      <td>2013-10-14</td>\n",
       "      <td>2013-10-08</td>\n",
       "      <td>part30f5de0</td>\n",
       "      <td>1</td>\n",
       "      <td>False</td>\n",
       "      <td>-6</td>\n",
       "      <td>Shipment is on Time</td>\n",
       "    </tr>\n",
       "    <tr>\n",
       "      <th>4</th>\n",
       "      <td>10005</td>\n",
       "      <td>2013-10-14</td>\n",
       "      <td>2013-10-08</td>\n",
       "      <td>part9d64d35</td>\n",
       "      <td>6</td>\n",
       "      <td>False</td>\n",
       "      <td>-6</td>\n",
       "      <td>Shipment is on Time</td>\n",
       "    </tr>\n",
       "    <tr>\n",
       "      <th>...</th>\n",
       "      <td>...</td>\n",
       "      <td>...</td>\n",
       "      <td>...</td>\n",
       "      <td>...</td>\n",
       "      <td>...</td>\n",
       "      <td>...</td>\n",
       "      <td>...</td>\n",
       "      <td>...</td>\n",
       "    </tr>\n",
       "    <tr>\n",
       "      <th>3995</th>\n",
       "      <td>10999</td>\n",
       "      <td>2013-10-15</td>\n",
       "      <td>2013-10-15</td>\n",
       "      <td>part0275794</td>\n",
       "      <td>6</td>\n",
       "      <td>False</td>\n",
       "      <td>0</td>\n",
       "      <td>Shipment is on Time</td>\n",
       "    </tr>\n",
       "    <tr>\n",
       "      <th>3996</th>\n",
       "      <td>10999</td>\n",
       "      <td>2013-10-15</td>\n",
       "      <td>2013-10-15</td>\n",
       "      <td>part04da31b</td>\n",
       "      <td>6</td>\n",
       "      <td>False</td>\n",
       "      <td>0</td>\n",
       "      <td>Shipment is on Time</td>\n",
       "    </tr>\n",
       "    <tr>\n",
       "      <th>3997</th>\n",
       "      <td>11001</td>\n",
       "      <td>2013-10-04</td>\n",
       "      <td>2013-10-15</td>\n",
       "      <td>partd4952a8</td>\n",
       "      <td>1</td>\n",
       "      <td>True</td>\n",
       "      <td>11</td>\n",
       "      <td>Darn Shipment is Late</td>\n",
       "    </tr>\n",
       "    <tr>\n",
       "      <th>3998</th>\n",
       "      <td>11002</td>\n",
       "      <td>2013-10-15</td>\n",
       "      <td>2013-10-15</td>\n",
       "      <td>parta8850c7</td>\n",
       "      <td>12</td>\n",
       "      <td>False</td>\n",
       "      <td>0</td>\n",
       "      <td>Shipment is on Time</td>\n",
       "    </tr>\n",
       "    <tr>\n",
       "      <th>3999</th>\n",
       "      <td>11003</td>\n",
       "      <td>2013-10-15</td>\n",
       "      <td>2013-10-15</td>\n",
       "      <td>part7114b3c</td>\n",
       "      <td>15</td>\n",
       "      <td>False</td>\n",
       "      <td>0</td>\n",
       "      <td>Shipment is on Time</td>\n",
       "    </tr>\n",
       "  </tbody>\n",
       "</table>\n",
       "<p>4000 rows × 8 columns</p>\n",
       "</div>"
      ],
      "text/plain": [
       "      shipID plannedShipDate actualShipDate       partID  quantity  is_late  \\\n",
       "0      10001      2013-11-06     2013-10-04  part92b16c5         6    False   \n",
       "1      10002      2013-10-15     2013-10-04   part66983b         2    False   \n",
       "2      10003      2013-10-25     2013-10-07  part8e36f25         1    False   \n",
       "3      10004      2013-10-14     2013-10-08  part30f5de0         1    False   \n",
       "4      10005      2013-10-14     2013-10-08  part9d64d35         6    False   \n",
       "...      ...             ...            ...          ...       ...      ...   \n",
       "3995   10999      2013-10-15     2013-10-15  part0275794         6    False   \n",
       "3996   10999      2013-10-15     2013-10-15  part04da31b         6    False   \n",
       "3997   11001      2013-10-04     2013-10-15  partd4952a8         1     True   \n",
       "3998   11002      2013-10-15     2013-10-15  parta8850c7        12    False   \n",
       "3999   11003      2013-10-15     2013-10-15  part7114b3c        15    False   \n",
       "\n",
       "      days_late          lateStatement  \n",
       "0           -33    Shipment is on Time  \n",
       "1           -11    Shipment is on Time  \n",
       "2           -18    Shipment is on Time  \n",
       "3            -6    Shipment is on Time  \n",
       "4            -6    Shipment is on Time  \n",
       "...         ...                    ...  \n",
       "3995          0    Shipment is on Time  \n",
       "3996          0    Shipment is on Time  \n",
       "3997         11  Darn Shipment is Late  \n",
       "3998          0    Shipment is on Time  \n",
       "3999          0    Shipment is on Time  \n",
       "\n",
       "[4000 rows x 8 columns]"
      ]
     },
     "execution_count": 43,
     "metadata": {},
     "output_type": "execute_result"
    }
   ],
   "source": [
    "# This code has an error - can you spot it?\n",
    "shipments_with_lateness = (\n",
    "    shipments_df\n",
    "    .assign(\n",
    "        is_late=lambda df: df['actualShipDate'] > df['plannedShipDate'],\n",
    "        days_late=lambda df: (df['actualShipDate'] - df['plannedShipDate']).dt.days,\n",
    "        lateStatement=lambda df: df['is_late'].map({True: \"Darn Shipment is Late\", False: \"Shipment is on Time\"})\n",
    "    )\n",
    ")\n",
    "#+\n",
    "# The error is in the lateStatement assignment. The code tried to use shipments_df['is_late'] but is_late doesn't exist in the original dataframe - it's being created in the same .assign() call.\n",
    "# The fix is to use a lambda function with .map() to apply the conditional logic element-wise:\n",
    "# lateStatement=lambda df: df['is_late'].map({True: \"Darn Shipment is Late\", False: \"Shipment is on Time\"})\n",
    "#- \n",
    "shipments_with_lateness"
   ]
  },
  {
   "cell_type": "code",
   "execution_count": null,
   "id": "874742d7-09ed-49b3-9dd8-3dbab2bd6f2b",
   "metadata": {
    "vscode": {
     "languageId": "quarto"
    }
   },
   "outputs": [],
   "source": [
    "#+\n",
    "# The fix is to use a lambda function with .map() to apply the conditional logic element-wise:\n",
    "# lateStatement=lambda df: df['is_late'].map({True: \"Darn Shipment is Late\", False: \"Shipment is on Time\"})\n",
    "#-\n",
    "lateStatement=lambda df: df['is_late'].map({True: \"Darn Shipment is Late\", False: \"Shipment is on Time\"})"
   ]
  },
  {
   "cell_type": "code",
   "execution_count": null,
   "id": "351c14e5-f56d-4bb1-831a-5d305d382725",
   "metadata": {
    "vscode": {
     "languageId": "quarto"
    }
   },
   "outputs": [],
   "source": [
    "#+\n",
    "# The fix is to use a lambda function with .map() to apply the conditional logic element-wise:\n",
    "# lateStatement=lambda df: df['is_late'].map({True: \"Darn Shipment is Late\", False: \"Shipment is on Time\"})\n",
    "#-\n",
    "lateStatement=lambda df: df['is_late'].map({True: \"Darn Shipment is Late\", False: \"Shipment is on Time\"})"
   ]
  },
  {
   "cell_type": "code",
   "execution_count": null,
   "id": "b530fa80-f5f5-4f7b-86a2-65acbf069c26",
   "metadata": {
    "vscode": {
     "languageId": "quarto"
    }
   },
   "outputs": [
    {
     "name": "stdout",
     "output_type": "stream",
     "text": [
      "Found 456 late shipments out of 4000 total\n",
      "\n",
      "Late shipments sample:\n",
      "     shipID       partID plannedShipDate actualShipDate  days_late\n",
      "776   10192  part0164a70      2013-10-09     2013-10-14          5\n",
      "777   10192  part9259836      2013-10-09     2013-10-14          5\n",
      "778   10192  part4526c73      2013-10-09     2013-10-14          5\n",
      "779   10192  partbb47e81      2013-10-09     2013-10-14          5\n",
      "780   10192  part008482f      2013-10-09     2013-10-14          5\n"
     ]
    }
   ],
   "source": [
    "# Query rows for late shipments and filter to keep specific columns\n",
    "late_shipments = (\n",
    "    shipments_with_lateness\n",
    "    .query('is_late == True')  # Query rows where is_late is True\n",
    "    .filter(['shipID', 'partID', 'plannedShipDate', 'actualShipDate', 'days_late'])  # Filter to keep specific columns\n",
    ")\n",
    "\n",
    "print(f\"Found {len(late_shipments)} late shipments out of {len(shipments_with_lateness)} total\")\n",
    "print(\"\\nLate shipments sample:\")\n",
    "print(late_shipments.head())"
   ]
  },
  {
   "cell_type": "code",
   "execution_count": null,
   "id": "b9fb7cf2-22c3-49f2-ae63-65965141b09d",
   "metadata": {
    "vscode": {
     "languageId": "quarto"
    }
   },
   "outputs": [
    {
     "name": "stdout",
     "output_type": "stream",
     "text": [
      "Found 456 late shipments out of 4000 total\n",
      "\n",
      "Late shipments sample:\n",
      "     shipID       partID plannedShipDate actualShipDate  days_late\n",
      "776   10192  part0164a70      2013-10-09     2013-10-14          5\n",
      "777   10192  part9259836      2013-10-09     2013-10-14          5\n",
      "778   10192  part4526c73      2013-10-09     2013-10-14          5\n",
      "779   10192  partbb47e81      2013-10-09     2013-10-14          5\n",
      "780   10192  part008482f      2013-10-09     2013-10-14          5\n"
     ]
    }
   ],
   "source": [
    "# Query rows for late shipments and filter to keep specific columns\n",
    "late_shipments = (\n",
    "    shipments_with_lateness\n",
    "    .query('is_late == True')  # Query rows where is_late is True\n",
    "    .filter(['shipID', 'partID', 'plannedShipDate', 'actualShipDate', 'days_late'])  # Filter to keep specific columns\n",
    ")\n",
    "\n",
    "print(f\"Found {len(late_shipments)} late shipments out of {len(shipments_with_lateness)} total\")\n",
    "print(\"\\nLate shipments sample:\")\n",
    "print(late_shipments.head())"
   ]
  },
  {
   "cell_type": "code",
   "execution_count": null,
   "id": "ca680e38-3dac-4975-afca-068a790960f1",
   "metadata": {
    "vscode": {
     "languageId": "quarto"
    }
   },
   "outputs": [
    {
     "name": "stdout",
     "output_type": "stream",
     "text": [
      "Cleaned dataset: 4000 rows, 7 columns\n",
      "Remaining columns: ['shipID', 'plannedShipDate', 'actualShipDate', 'partID', 'is_late', 'days_late', 'lateStatement']\n"
     ]
    }
   ],
   "source": [
    "# Create a cleaner dataset by dropping unnecessary columns\n",
    "clean_shipments = (\n",
    "    shipments_with_lateness\n",
    "    .drop(columns=['quantity'])  # Drop quantity column (not needed for our analysis)\n",
    "    .dropna(subset=['plannedShipDate', 'actualShipDate'])  # Remove rows with missing dates\n",
    ")\n",
    "\n",
    "print(f\"Cleaned dataset: {len(clean_shipments)} rows, {len(clean_shipments.columns)} columns\")\n",
    "print(\"Remaining columns:\", clean_shipments.columns.tolist())"
   ]
  },
  {
   "cell_type": "code",
   "execution_count": null,
   "id": "9fce4ed1-0dd6-40df-9017-6302821ff59b",
   "metadata": {
    "vscode": {
     "languageId": "quarto"
    }
   },
   "outputs": [
    {
     "name": "stdout",
     "output_type": "stream",
     "text": [
      "Found 456 late shipments out of 4000 total\n",
      "\n",
      "Late shipments sample:\n",
      "     shipID       partID plannedShipDate actualShipDate  days_late\n",
      "776   10192  part0164a70      2013-10-09     2013-10-14          5\n",
      "777   10192  part9259836      2013-10-09     2013-10-14          5\n",
      "778   10192  part4526c73      2013-10-09     2013-10-14          5\n",
      "779   10192  partbb47e81      2013-10-09     2013-10-14          5\n",
      "780   10192  part008482f      2013-10-09     2013-10-14          5\n"
     ]
    }
   ],
   "source": [
    "# Query rows for late shipments and filter to keep specific columns\n",
    "late_shipments = (\n",
    "    shipments_with_lateness\n",
    "    .query('is_late == True')  # Query rows where is_late is True\n",
    "    .filter(['shipID', 'partID', 'plannedShipDate', 'actualShipDate', 'days_late'])  # Filter to keep specific columns\n",
    ")\n",
    "\n",
    "print(f\"Found {len(late_shipments)} late shipments out of {len(shipments_with_lateness)} total\")\n",
    "print(\"\\nLate shipments sample:\")\n",
    "print(late_shipments.head())"
   ]
  },
  {
   "cell_type": "code",
   "execution_count": null,
   "id": "025398a4-dcbe-4da1-b710-f3cbb5d270e1",
   "metadata": {
    "vscode": {
     "languageId": "quarto"
    }
   },
   "outputs": [
    {
     "name": "stdout",
     "output_type": "stream",
     "text": [
      "      shipID plannedShipDate actualShipDate       partID  quantity  is_late  \\\n",
      "776    10192      2013-10-09     2013-10-14  part0164a70         2     True   \n",
      "777    10192      2013-10-09     2013-10-14  part9259836         1     True   \n",
      "778    10192      2013-10-09     2013-10-14  part4526c73         1     True   \n",
      "779    10192      2013-10-09     2013-10-14  partbb47e81         2     True   \n",
      "780    10192      2013-10-09     2013-10-14  part008482f         1     True   \n",
      "...      ...             ...            ...          ...       ...      ...   \n",
      "3896   10956      2013-09-24     2013-10-15  part98c1c48         1     True   \n",
      "3897   10956      2013-09-24     2013-10-15  part82e69e9         1     True   \n",
      "3898   10956      2013-09-24     2013-10-15  partf23fd1e         2     True   \n",
      "3899   10956      2013-09-24     2013-10-15  part825873c         1     True   \n",
      "3997   11001      2013-10-04     2013-10-15  partd4952a8         1     True   \n",
      "\n",
      "      days_late          lateStatement  \n",
      "776           5  Darn Shipment is Late  \n",
      "777           5  Darn Shipment is Late  \n",
      "778           5  Darn Shipment is Late  \n",
      "779           5  Darn Shipment is Late  \n",
      "780           5  Darn Shipment is Late  \n",
      "...         ...                    ...  \n",
      "3896         21  Darn Shipment is Late  \n",
      "3897         21  Darn Shipment is Late  \n",
      "3898         21  Darn Shipment is Late  \n",
      "3899         21  Darn Shipment is Late  \n",
      "3997         11  Darn Shipment is Late  \n",
      "\n",
      "[186 rows x 8 columns]\n"
     ]
    }
   ],
   "source": [
    "late_threshold = 5\n",
    "late_shipments = shipments_with_lateness.query(f'days_late >= {late_threshold}')\n",
    "print(late_shipments)"
   ]
  },
  {
   "cell_type": "code",
   "execution_count": null,
   "id": "47b11b40-2550-4296-bf5b-0ba1a4e5fbaa",
   "metadata": {
    "vscode": {
     "languageId": "quarto"
    }
   },
   "outputs": [
    {
     "name": "stdout",
     "output_type": "stream",
     "text": [
      "Cleaned dataset: 4000 rows, 7 columns\n",
      "Remaining columns: ['shipID', 'plannedShipDate', 'actualShipDate', 'partID', 'is_late', 'days_late', 'lateStatement']\n"
     ]
    }
   ],
   "source": [
    "# Create a cleaner dataset by dropping unnecessary columns\n",
    "clean_shipments = (\n",
    "    shipments_with_lateness\n",
    "    .drop(columns=['quantity'])  # Drop quantity column (not needed for our analysis)\n",
    "    .dropna(subset=['plannedShipDate', 'actualShipDate'])  # Remove rows with missing dates\n",
    ")\n",
    "\n",
    "print(f\"Cleaned dataset: {len(clean_shipments)} rows, {len(clean_shipments.columns)} columns\")\n",
    "print(\"Remaining columns:\", clean_shipments.columns.tolist())"
   ]
  },
  {
   "cell_type": "code",
   "execution_count": null,
   "id": "397631c9-b90b-4689-a5bd-ed4310af1e64",
   "metadata": {
    "vscode": {
     "languageId": "quarto"
    }
   },
   "outputs": [
    {
     "name": "stdout",
     "output_type": "stream",
     "text": [
      "Shipments sorted by lateness (worst first):\n",
      "   shipID       partID  days_late  is_late\n",
      "0   10956  partb6208b5         21     True\n",
      "1   10956  part04ef2f7         21     True\n",
      "2   10956  part4875f85         21     True\n",
      "3   10956  partb722d53         21     True\n",
      "4   10956  partc979912         21     True\n",
      "5   10956  parta27d449         21     True\n",
      "6   10956  partc653823         21     True\n",
      "7   10956  part82e69e9         21     True\n",
      "8   10956  partf23fd1e         21     True\n",
      "9   10956  part825873c         21     True\n"
     ]
    }
   ],
   "source": [
    "# Sort by days late (worst first)\n",
    "sorted_by_lateness = (\n",
    "    clean_shipments\n",
    "    .sort_values('days_late', ascending=False)  # Sort by days_late, highest first\n",
    "    .reset_index(drop=True)  # Reset index to be sequential\n",
    ")\n",
    "\n",
    "print(\"Shipments sorted by lateness (worst first):\")\n",
    "print(sorted_by_lateness[['shipID', 'partID', 'days_late', 'is_late']].head(10))"
   ]
  },
  {
   "cell_type": "code",
   "execution_count": null,
   "id": "b3f64f68-f99b-4e23-92ec-f0b6386e65e1",
   "metadata": {
    "vscode": {
     "languageId": "quarto"
    }
   },
   "outputs": [
    {
     "name": "stdout",
     "output_type": "stream",
     "text": [
      "Overall Service Level Metrics:\n",
      "        is_late  days_late\n",
      "count  4000.000        NaN\n",
      "sum     456.000        NaN\n",
      "mean      0.114     -0.974\n",
      "max         NaN     21.000\n",
      "\n",
      "On-time delivery rate: 88.6%\n"
     ]
    }
   ],
   "source": [
    "# Calculate overall service level metrics\n",
    "service_metrics = (\n",
    "    clean_shipments\n",
    "    .agg({\n",
    "        'is_late': ['count', 'sum', 'mean'],  # Count total, count late, calculate percentage\n",
    "        'days_late': ['mean', 'max']  # Average and maximum days late\n",
    "    })\n",
    "    .round(3)\n",
    ")\n",
    "\n",
    "print(\"Overall Service Level Metrics:\")\n",
    "print(service_metrics)\n",
    "\n",
    "# Calculate percentage on-time directly from the data\n",
    "on_time_rate = (1 - clean_shipments['is_late'].mean()) * 100\n",
    "print(f\"\\nOn-time delivery rate: {on_time_rate:.1f}%\")"
   ]
  },
  {
   "cell_type": "code",
   "execution_count": null,
   "id": "bce30982-7ecd-46a0-b831-099040a85d60",
   "metadata": {
    "vscode": {
     "languageId": "quarto"
    }
   },
   "outputs": [
    {
     "name": "stdout",
     "output_type": "stream",
     "text": [
      "\n",
      "Product categories available:\n",
      "prodCategory\n",
      "Marketables    1850\n",
      "Machines        846\n",
      "SpareParts      767\n",
      "Liquids         537\n",
      "Name: count, dtype: int64\n"
     ]
    }
   ],
   "source": [
    "# Merge shipment data with product line data\n",
    "shipments_with_category = (\n",
    "    clean_shipments\n",
    "    .merge(product_line_df, on='partID', how='left')  # Left join to keep all shipments\n",
    "    .assign(\n",
    "        category_late=lambda df: df['is_late'] & df['prodCategory'].notna()  # Only count as late if we have category info\n",
    "    )\n",
    ")\n",
    "\n",
    "print(\"\\nProduct categories available:\")\n",
    "print(shipments_with_category['prodCategory'].value_counts())"
   ]
  },
  {
   "cell_type": "code",
   "execution_count": null,
   "id": "c8376587-1aef-4688-bb6d-b8111a94d62f",
   "metadata": {
    "vscode": {
     "languageId": "quarto"
    }
   },
   "outputs": [
    {
     "name": "stdout",
     "output_type": "stream",
     "text": [
      "Service Level by Product Category:\n",
      "             is_late                   days_late    \n",
      "                 any count  sum   mean      mean max\n",
      "prodCategory                                        \n",
      "Liquids         True   537   22  0.041    -0.950  19\n",
      "Machines        True   846  152  0.180    -1.336  21\n",
      "Marketables     True  1850  145  0.078    -0.804  21\n",
      "SpareParts      True   767  137  0.179    -1.003  21\n"
     ]
    }
   ],
   "source": [
    "# Analyze service levels by product category\n",
    "service_by_category = (\n",
    "    shipments_with_category\n",
    "    .groupby('prodCategory')  # Split by product category\n",
    "    .agg({\n",
    "        'is_late': ['any', 'count', 'sum', 'mean'],  # Count, late count, percentage late\n",
    "        'days_late': ['mean', 'max']  # Average and max days late\n",
    "    })\n",
    "    .round(3)\n",
    ")\n",
    "\n",
    "print(\"Service Level by Product Category:\")\n",
    "print(service_by_category)"
   ]
  },
  {
   "cell_type": "code",
   "execution_count": null,
   "id": "0b713b7d-f0b4-40f2-adea-8c8cc5cd1380",
   "metadata": {
    "vscode": {
     "languageId": "quarto"
    }
   },
   "outputs": [
    {
     "name": "stdout",
     "output_type": "stream",
     "text": [
      "Comprehensive analysis - shipments with multiple categories:\n",
      "Shipments with multiple categories: 232\n",
      "Total unique shipments: 997\n",
      "Percentage with multiple categories: 23.3%\n"
     ]
    }
   ],
   "source": [
    "# Create a comprehensive analysis dataset\n",
    "comprehensive_analysis = (\n",
    "    shipments_with_category\n",
    "    .groupby(['shipID', 'prodCategory'])  # Group by shipment and category\n",
    "    .agg({\n",
    "        'is_late': 'any',  # True if any item in this shipment/category is late\n",
    "        'days_late': 'max'  # Maximum days late for this shipment/category\n",
    "    })\n",
    "    .reset_index()\n",
    "    .assign(\n",
    "        has_multiple_categories=lambda df: df.groupby('shipID')['prodCategory'].transform('nunique') > 1\n",
    "    )\n",
    ")\n",
    "\n",
    "print(\"Comprehensive analysis - shipments with multiple categories:\")\n",
    "multi_category_shipments = comprehensive_analysis[comprehensive_analysis['has_multiple_categories']]\n",
    "print(f\"Shipments with multiple categories: {multi_category_shipments['shipID'].nunique()}\")\n",
    "print(f\"Total unique shipments: {comprehensive_analysis['shipID'].nunique()}\")\n",
    "print(f\"Percentage with multiple categories: {multi_category_shipments['shipID'].nunique() / comprehensive_analysis['shipID'].nunique() * 100:.1f}%\")"
   ]
  },
  {
   "cell_type": "code",
   "execution_count": null,
   "id": "291b1052-b062-4303-b420-3ec1629f50ab",
   "metadata": {
    "vscode": {
     "languageId": "quarto"
    }
   },
   "outputs": [
    {
     "name": "stdout",
     "output_type": "stream",
     "text": [
      "Service Level by Product Category:\n",
      "  on_time_percentage  is_late  percentage\n",
      "0            On Time        4       100.0\n"
     ]
    }
   ],
   "source": [
    "# Create a professional visualization showing service level (on-time percentage) by product category\n",
    "service_level_by_category = (\n",
    "    shipments_with_category\n",
    "    .groupby('prodCategory')\n",
    "    .agg({'is_late': 'any'})\n",
    "    .reset_index()\n",
    "    .assign(on_time_percentage=lambda df: df['is_late'].map({True: 'On Time', False: 'Late'}))\n",
    "    .groupby('on_time_percentage')\n",
    "    .agg({'is_late': 'count'})\n",
    "    .reset_index()\n",
    "    .assign(percentage=lambda df: df['is_late'] / df['is_late'].sum() * 100)\n",
    ")\n",
    "\n",
    "print(\"Service Level by Product Category:\")\n",
    "print(service_level_by_category)"
   ]
  },
  {
   "cell_type": "code",
   "execution_count": null,
   "id": "e2156cb9-c9a7-4826-9936-a511e2dbc8a0",
   "metadata": {
    "vscode": {
     "languageId": "quarto"
    }
   },
   "outputs": [
    {
     "data": {
      "image/png": "[encoded data removed]",
      "text/plain": [
       "<Figure size 1600x800 with 2 Axes>"
      ]
     },
     "metadata": {},
     "output_type": "display_data"
    },
    {
     "name": "stdout",
     "output_type": "stream",
     "text": [
      "\n",
      "============================================================\n",
      "DETAILED SERVICE LEVEL METRICS BY PRODUCT CATEGORY\n",
      "============================================================\n",
      "Category     Total    Late     On-Time %    Avg Days Late  \n",
      "------------------------------------------------------------\n",
      "Liquids      537      22       95.9         -0.9           \n",
      "Machines     846      152      82.0         -1.3           \n",
      "Marketables  1850     145      92.2         -0.8           \n",
      "SpareParts   767      137      82.1         -1.0           \n",
      "\n",
      "Overall Performance Summary:\n",
      "• Total Shipments: 4,000\n",
      "• Total Late Shipments: 456\n",
      "• Overall On-Time Rate: 88.6%\n",
      "• Categories Meeting 95% Target: 1/4\n"
     ]
    }
   ],
   "source": [
    "# Set up professional plotting style\n",
    "plt.style.use('default')\n",
    "sns.set_palette(\"husl\")\n",
    "fig, (ax1, ax2) = plt.subplots(1, 2, figsize=(16, 8))\n",
    "\n",
    "# Calculate service level metrics by category\n",
    "service_metrics = (\n",
    "    shipments_with_category\n",
    "    .groupby('prodCategory')\n",
    "    .agg({\n",
    "        'is_late': ['count', 'sum', 'mean'],\n",
    "        'days_late': ['mean', 'max']\n",
    "    })\n",
    "    .round(3)\n",
    ")\n",
    "\n",
    "# Flatten column names for easier access\n",
    "service_metrics.columns = ['total_shipments', 'late_shipments', 'late_rate', 'avg_days_late', 'max_days_late']\n",
    "service_metrics = service_metrics.reset_index()\n",
    "\n",
    "# Calculate on-time percentage\n",
    "service_metrics['on_time_rate'] = (1 - service_metrics['late_rate']) * 100\n",
    "\n",
    "# Create horizontal bar chart for on-time rates\n",
    "categories = service_metrics['prodCategory']\n",
    "on_time_rates = service_metrics['on_time_rate']\n",
    "colors = ['#2E8B57', '#4169E1', '#FF6347', '#FFD700']  # Professional color palette\n",
    "\n",
    "bars1 = ax1.barh(categories, on_time_rates, color=colors, alpha=0.8, edgecolor='black', linewidth=0.5)\n",
    "ax1.set_xlabel('On-Time Delivery Rate (%)', fontsize=12, fontweight='bold')\n",
    "ax1.set_ylabel('Product Category', fontsize=12, fontweight='bold')\n",
    "ax1.set_title('Service Level Performance by Product Category', fontsize=14, fontweight='bold', pad=20)\n",
    "ax1.set_xlim(0, 100)\n",
    "ax1.grid(axis='x', alpha=0.3, linestyle='--')\n",
    "\n",
    "# Add value labels on bars\n",
    "for i, (bar, rate) in enumerate(zip(bars1, on_time_rates)):\n",
    "    ax1.text(rate + 1, i, f'{rate:.1f}%', va='center', fontweight='bold', fontsize=10)\n",
    "\n",
    "# Add performance threshold line\n",
    "ax1.axvline(x=95, color='red', linestyle='--', alpha=0.7, linewidth=2, label='Target: 95%')\n",
    "ax1.legend(loc='lower right')\n",
    "\n",
    "# Create stacked bar chart for shipment volumes and late shipments\n",
    "x_pos = range(len(categories))\n",
    "on_time_counts = service_metrics['total_shipments'] - service_metrics['late_shipments']\n",
    "late_counts = service_metrics['late_shipments']\n",
    "\n",
    "bars2_ontime = ax2.bar(x_pos, on_time_counts, color='#2E8B57', alpha=0.8, label='On-Time Shipments', edgecolor='black', linewidth=0.5)\n",
    "bars2_late = ax2.bar(x_pos, late_counts, bottom=on_time_counts, color='#FF6347', alpha=0.8, label='Late Shipments', edgecolor='black', linewidth=0.5)\n",
    "\n",
    "ax2.set_xlabel('Product Category', fontsize=12, fontweight='bold')\n",
    "ax2.set_ylabel('Number of Shipments', fontsize=12, fontweight='bold')\n",
    "ax2.set_title('Shipment Volume and Performance by Category', fontsize=14, fontweight='bold', pad=20)\n",
    "ax2.set_xticks(x_pos)\n",
    "ax2.set_xticklabels(categories, rotation=45, ha='right')\n",
    "ax2.legend()\n",
    "ax2.grid(axis='y', alpha=0.3, linestyle='--')\n",
    "\n",
    "# Add value labels on stacked bars\n",
    "for i, (ontime, late, total) in enumerate(zip(on_time_counts, late_counts, service_metrics['total_shipments'])):\n",
    "    ax2.text(i, total + 5, f'{total}', ha='center', fontweight='bold', fontsize=9)\n",
    "    if late > 0:\n",
    "        ax2.text(i, ontime + late/2, f'{late}', ha='center', fontweight='bold', fontsize=9, color='white')\n",
    "\n",
    "# Adjust layout and add overall title\n",
    "plt.tight_layout()\n",
    "fig.suptitle('ZappTech Service Level Analysis: Performance by Product Category', \n",
    "             fontsize=16, fontweight='bold', y=0.98)\n",
    "plt.subplots_adjust(top=0.92)\n",
    "\n",
    "# Add summary statistics as text\n",
    "summary_text = f\"\"\"\n",
    "Key Insights:\n",
    "• Overall On-Time Rate: {(1 - shipments_with_category['is_late'].mean()) * 100:.1f}%\n",
    "• Best Performing Category: {service_metrics.loc[service_metrics['on_time_rate'].idxmax(), 'prodCategory']} ({service_metrics['on_time_rate'].max():.1f}%)\n",
    "• Category Needing Attention: {service_metrics.loc[service_metrics['on_time_rate'].idxmin(), 'prodCategory']} ({service_metrics['on_time_rate'].min():.1f}%)\n",
    "• Total Shipments Analyzed: {service_metrics['total_shipments'].sum():,}\n",
    "\"\"\"\n",
    "\n",
    "plt.figtext(0.02, 0.02, summary_text, fontsize=10, bbox=dict(boxstyle=\"round,pad=0.5\", facecolor=\"lightgray\", alpha=0.8))\n",
    "\n",
    "plt.show()\n",
    "\n",
    "# Print detailed metrics for business analysis\n",
    "print(\"\\n\" + \"=\"*60)\n",
    "print(\"DETAILED SERVICE LEVEL METRICS BY PRODUCT CATEGORY\")\n",
    "print(\"=\"*60)\n",
    "print(f\"{'Category':<12} {'Total':<8} {'Late':<8} {'On-Time %':<12} {'Avg Days Late':<15}\")\n",
    "print(\"-\"*60)\n",
    "for _, row in service_metrics.iterrows():\n",
    "    print(f\"{row['prodCategory']:<12} {row['total_shipments']:<8} {row['late_shipments']:<8} {row['on_time_rate']:<12.1f} {row['avg_days_late']:<15.1f}\")\n",
    "\n",
    "print(f\"\\nOverall Performance Summary:\")\n",
    "print(f\"• Total Shipments: {service_metrics['total_shipments'].sum():,}\")\n",
    "print(f\"• Total Late Shipments: {service_metrics['late_shipments'].sum():,}\")\n",
    "print(f\"• Overall On-Time Rate: {(1 - service_metrics['late_shipments'].sum() / service_metrics['total_shipments'].sum()) * 100:.1f}%\")\n",
    "print(f\"• Categories Meeting 95% Target: {(service_metrics['on_time_rate'] >= 95).sum()}/{len(service_metrics)}\")"
   ]
  }
 ],
 "metadata": {
  "kernelspec": {
   "display_name": "venv",
   "language": "python",
   "name": "python3"
  },
  "language_info": {
   "name": "python",
   "version": "3.13.9"
  }
 },
 "nbformat": 4,
 "nbformat_minor": 5
}
